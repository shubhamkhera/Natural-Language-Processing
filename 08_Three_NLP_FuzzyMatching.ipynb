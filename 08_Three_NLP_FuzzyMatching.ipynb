{
 "cells": [
  {
   "cell_type": "markdown",
   "id": "33356c6a",
   "metadata": {},
   "source": [
    "# Day 3: 3.3\n",
    "\n",
    "1. **Fuzzy Matching**"
   ]
  },
  {
   "cell_type": "code",
   "execution_count": 1,
   "id": "a05e3f79",
   "metadata": {},
   "outputs": [],
   "source": [
    "#!pip install fuzzywuzzy"
   ]
  },
  {
   "cell_type": "code",
   "execution_count": 2,
   "id": "fad75b9f",
   "metadata": {},
   "outputs": [],
   "source": [
    "import warnings\n",
    "warnings.filterwarnings('ignore')\n",
    "\n",
    "from fuzzywuzzy import process\n",
    "from fuzzywuzzy import fuzz"
   ]
  },
  {
   "cell_type": "code",
   "execution_count": 3,
   "id": "c141dd5d",
   "metadata": {},
   "outputs": [],
   "source": [
    "ipl_teams = ['Chennai Super Kings', 'Royal Challengers Banglore', 'Delhi Capitals', 'Kolkata Knight Riders', 'Kings IX Punjab', 'Sunriser Hyderabad']"
   ]
  },
  {
   "cell_type": "code",
   "execution_count": 6,
   "id": "2fb959f1",
   "metadata": {},
   "outputs": [
    {
     "data": {
      "text/plain": [
       "[('Kolkata Knight Riders', 90), ('Royal Challengers Banglore', 42)]"
      ]
     },
     "execution_count": 6,
     "metadata": {},
     "output_type": "execute_result"
    }
   ],
   "source": [
    "statement = 'Kolkata Knight Riders beat bengluru team by 30 runs'\n",
    "process.extract(statement, ipl_teams, limit=2)"
   ]
  },
  {
   "cell_type": "code",
   "execution_count": null,
   "id": "f1867d63",
   "metadata": {},
   "outputs": [],
   "source": []
  },
  {
   "cell_type": "code",
   "execution_count": null,
   "id": "d1fb0f17",
   "metadata": {},
   "outputs": [],
   "source": []
  },
  {
   "cell_type": "code",
   "execution_count": null,
   "id": "caba6345",
   "metadata": {},
   "outputs": [],
   "source": []
  },
  {
   "cell_type": "code",
   "execution_count": null,
   "id": "63bd6f18",
   "metadata": {},
   "outputs": [],
   "source": []
  },
  {
   "cell_type": "code",
   "execution_count": null,
   "id": "af2f677b",
   "metadata": {},
   "outputs": [],
   "source": []
  },
  {
   "cell_type": "code",
   "execution_count": null,
   "id": "dbf8f359",
   "metadata": {},
   "outputs": [],
   "source": []
  },
  {
   "cell_type": "code",
   "execution_count": null,
   "id": "6dee4c86",
   "metadata": {},
   "outputs": [],
   "source": []
  },
  {
   "cell_type": "code",
   "execution_count": null,
   "id": "7af2ffb9",
   "metadata": {},
   "outputs": [],
   "source": []
  }
 ],
 "metadata": {
  "kernelspec": {
   "display_name": "Python 3 (ipykernel)",
   "language": "python",
   "name": "python3"
  },
  "language_info": {
   "codemirror_mode": {
    "name": "ipython",
    "version": 3
   },
   "file_extension": ".py",
   "mimetype": "text/x-python",
   "name": "python",
   "nbconvert_exporter": "python",
   "pygments_lexer": "ipython3",
   "version": "3.9.12"
  }
 },
 "nbformat": 4,
 "nbformat_minor": 5
}

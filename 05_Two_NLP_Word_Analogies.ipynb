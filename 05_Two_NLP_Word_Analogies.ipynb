{
 "cells": [
  {
   "cell_type": "markdown",
   "id": "0d43f6da",
   "metadata": {},
   "source": [
    "# Day 2: 2.4\n",
    "\n",
    "1. **Word Analogies (gensim.models.KeyedVectors)**\n",
    "2. **Using GoogleNews-Vectors**\n",
    "3. **\"from gensim.model.KeyedVectors import load_word2vec_format\" {to Fetch the created vectorized word data/corpus(text document)}**"
   ]
  },
  {
   "cell_type": "markdown",
   "id": "2b1ff245",
   "metadata": {},
   "source": [
    "- man: woman :: ? : queen\n",
    "    - man-woman = x- queen\n",
    "    - x = man + queen - woman\n",
    "- paris : france :: ? : india\n",
    "    - paris - france = x - india\n",
    "    - x = paris + india - france\n",
    "- boy : girl :: ? : woman\n",
    "    - boy - girl = x - woman\n",
    "    - x = boy + woman - girl"
   ]
  },
  {
   "cell_type": "code",
   "execution_count": 1,
   "id": "2c5e9c3b",
   "metadata": {},
   "outputs": [],
   "source": [
    "import warnings\n",
    "warnings.filterwarnings('ignore')"
   ]
  },
  {
   "cell_type": "code",
   "execution_count": 2,
   "id": "5ca765d9",
   "metadata": {},
   "outputs": [],
   "source": [
    "from gensim.models import KeyedVectors"
   ]
  },
  {
   "cell_type": "code",
   "execution_count": 3,
   "id": "ba054834",
   "metadata": {},
   "outputs": [],
   "source": [
    "word_vectors = KeyedVectors.load_word2vec_format('05_GoogleNews-vectors-negative300.bin', binary=True)"
   ]
  },
  {
   "cell_type": "code",
   "execution_count": 9,
   "id": "d160308e",
   "metadata": {},
   "outputs": [
    {
     "data": {
      "text/plain": [
       "[('king', 0.6958590745925903),\n",
       " ('kings', 0.5950952768325806),\n",
       " ('queens', 0.583850085735321),\n",
       " ('monarch', 0.5398427844047546),\n",
       " ('prince', 0.5223615169525146)]"
      ]
     },
     "execution_count": 9,
     "metadata": {},
     "output_type": "execute_result"
    }
   ],
   "source": [
    "word_vectors.most_similar(positive=['man','queen'], negative=['woman'])[0:5]"
   ]
  },
  {
   "cell_type": "code",
   "execution_count": 6,
   "id": "c390fc32",
   "metadata": {},
   "outputs": [
    {
     "data": {
      "text/plain": [
       "[('chennai', 0.5442506074905396),\n",
       " ('delhi', 0.5149927139282227),\n",
       " ('mumbai', 0.5024341344833374),\n",
       " ('hyderabad', 0.4993249177932739)]"
      ]
     },
     "execution_count": 6,
     "metadata": {},
     "output_type": "execute_result"
    }
   ],
   "source": [
    "word_vectors.most_similar(positive=['paris','india'], negative=['france'])[0:4]"
   ]
  },
  {
   "cell_type": "code",
   "execution_count": 14,
   "id": "e918c904",
   "metadata": {},
   "outputs": [
    {
     "data": {
      "text/plain": [
       "[('Delhi', 0.6246031522750854),\n",
       " ('Bangalore', 0.612553596496582),\n",
       " ('Kolkata', 0.6071475148200989),\n",
       " ('Hyderabad', 0.6018285751342773)]"
      ]
     },
     "execution_count": 14,
     "metadata": {},
     "output_type": "execute_result"
    }
   ],
   "source": [
    "word_vectors.most_similar(positive=['Ottawa','India'], negative=['Canada'])[0:4]"
   ]
  },
  {
   "cell_type": "code",
   "execution_count": 15,
   "id": "bd7a4147",
   "metadata": {},
   "outputs": [
    {
     "data": {
      "text/plain": [
       "[('Indias', 0.7384199500083923),\n",
       " ('Indiaâ_€_™', 0.6843487024307251),\n",
       " ('Pakistan', 0.6706861257553101),\n",
       " ('Delhi', 0.6632035374641418),\n",
       " ('Bangalore', 0.6583030819892883),\n",
       " ('subcontinent', 0.6579218506813049),\n",
       " ('Bangladesh', 0.6527796983718872),\n",
       " ('sub_continent', 0.650303840637207),\n",
       " ('Mumbai', 0.6495688557624817),\n",
       " ('Sri_Lanka', 0.6445952653884888)]"
      ]
     },
     "execution_count": 15,
     "metadata": {},
     "output_type": "execute_result"
    }
   ],
   "source": [
    "word_vectors.most_similar('India')"
   ]
  },
  {
   "cell_type": "code",
   "execution_count": 17,
   "id": "8c9ca01c",
   "metadata": {},
   "outputs": [
    {
     "data": {
      "text/plain": [
       "[('Austria', 0.7461062073707581),\n",
       " ('German', 0.7178749442100525),\n",
       " ('Germans', 0.6628647446632385),\n",
       " ('Switzerland', 0.6506868004798889),\n",
       " ('Hungary', 0.6504982709884644),\n",
       " ('Germnay', 0.649348258972168),\n",
       " ('Netherlands', 0.6437495946884155),\n",
       " ('Cologne', 0.6430779099464417),\n",
       " ('symbol_RSTI', 0.6389946937561035),\n",
       " ('Annita_Kirsten', 0.634294867515564)]"
      ]
     },
     "execution_count": 17,
     "metadata": {},
     "output_type": "execute_result"
    }
   ],
   "source": [
    "word_vectors.most_similar('Germany')"
   ]
  },
  {
   "cell_type": "code",
   "execution_count": null,
   "id": "6fed4cb7",
   "metadata": {},
   "outputs": [],
   "source": []
  },
  {
   "cell_type": "code",
   "execution_count": null,
   "id": "8c919fb9",
   "metadata": {},
   "outputs": [],
   "source": []
  },
  {
   "cell_type": "code",
   "execution_count": null,
   "id": "9852f49d",
   "metadata": {},
   "outputs": [],
   "source": []
  },
  {
   "cell_type": "code",
   "execution_count": null,
   "id": "4d65baf0",
   "metadata": {},
   "outputs": [],
   "source": []
  },
  {
   "cell_type": "code",
   "execution_count": null,
   "id": "b822167c",
   "metadata": {},
   "outputs": [],
   "source": []
  }
 ],
 "metadata": {
  "kernelspec": {
   "display_name": "Python 3 (ipykernel)",
   "language": "python",
   "name": "python3"
  },
  "language_info": {
   "codemirror_mode": {
    "name": "ipython",
    "version": 3
   },
   "file_extension": ".py",
   "mimetype": "text/x-python",
   "name": "python",
   "nbconvert_exporter": "python",
   "pygments_lexer": "ipython3",
   "version": "3.9.12"
  }
 },
 "nbformat": 4,
 "nbformat_minor": 5
}

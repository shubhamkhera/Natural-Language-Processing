{
 "cells": [
  {
   "cell_type": "markdown",
   "id": "062f1ba1",
   "metadata": {},
   "source": [
    "# Day 1:\n",
    "\n",
    "1. NLTK\n",
    "2. Sentence Tokenization (nltk.tokenize.sent_tokenize)\n",
    "3. Word Tokenization (nltk.tokenize.word_tokenize)\n",
    "4. Remove Punctuations and numbers (\"str\".isalpha())\n",
    "5. Removing stopwords (from nltk.corpus import stopwords)\n",
    "6. Stemming (from nltk.stem import PoterStemmer)\n",
    "7. lemmatization (from nltk.stem import WordNetLemmatizer)\n",
    "8. N-Grams\n",
    "9. Part of Speech Tagging\n",
    "10. Using Spacy"
   ]
  },
  {
   "cell_type": "code",
   "execution_count": 2,
   "id": "3fabbc7d",
   "metadata": {},
   "outputs": [],
   "source": [
    "#!pip install nltk\n",
    "#nltk.download('all')"
   ]
  },
  {
   "cell_type": "code",
   "execution_count": 3,
   "id": "205b955f",
   "metadata": {},
   "outputs": [],
   "source": [
    "#!pip install -U spacy\n",
    "#python -m spacy download en_core_web_sm"
   ]
  },
  {
   "cell_type": "code",
   "execution_count": 4,
   "id": "c3f560e9",
   "metadata": {},
   "outputs": [],
   "source": [
    "import nltk"
   ]
  },
  {
   "cell_type": "code",
   "execution_count": 5,
   "id": "1335ebf6",
   "metadata": {},
   "outputs": [],
   "source": [
    "t_text = \"North America is the third largest continent, and is also a portion of the third largest supercontinent if North and South America are combined into the Americas and Africa, Europe, and Asia are considered to be part of one supercontinent called Afro-Eurasia. With an estimated population of 580 million and an area of 24,709,000 km2 (9,540,000 mi2), the northernmost of the two continents of the Western Hemisphere is bounded by the Pacific Ocean on the west; the Atlantic Ocean on the east; the Caribbean Sea on the south; and the Arctic Ocean on the north. The northern half of North America is sparsely populated and covered mostly by Canada, except for the northeastern portion, which is occupied by Greenland, and the northwestern portion, which is occupied by Alaska, the largest state of the United States. The central and southern portions of the continent are occupied by the contiguous United States, Mexico, and numerous smaller states in Central America and in the Caribbean. The continent is delimited on the southeast by most geographers at the Darién watershed along the Colombia-Panama border, placing all of Panama within North America. Alternatively, a less common view would end North America at the man-made Panama Canal. Islands generally associated with North America include Greenland, the world's largest island, and archipelagos and islands in the Caribbean. The terminology of the Americas is complex, but 'Anglo-America' can describe Canada and the U.S., while 'Latin America' comprises Mexico and the countries of Central America and the Caribbean, as well as the entire continent of South America.\""
   ]
  },
  {
   "cell_type": "code",
   "execution_count": 6,
   "id": "a6a25ae8",
   "metadata": {},
   "outputs": [
    {
     "name": "stdout",
     "output_type": "stream",
     "text": [
      "Length of the text 1627 characters\n"
     ]
    }
   ],
   "source": [
    "print(f\"Length of the text {len(t_text)} characters\")"
   ]
  },
  {
   "cell_type": "markdown",
   "id": "ed231711",
   "metadata": {},
   "source": [
    "## Sentence Tokenization"
   ]
  },
  {
   "cell_type": "code",
   "execution_count": 7,
   "id": "1e0b2c99",
   "metadata": {},
   "outputs": [],
   "source": [
    "from nltk.tokenize import sent_tokenize"
   ]
  },
  {
   "cell_type": "code",
   "execution_count": 8,
   "id": "4191069f",
   "metadata": {},
   "outputs": [],
   "source": [
    "sentences = sent_tokenize(t_text)"
   ]
  },
  {
   "cell_type": "code",
   "execution_count": 9,
   "id": "eacf03ee",
   "metadata": {},
   "outputs": [
    {
     "name": "stdout",
     "output_type": "stream",
     "text": [
      "North America is the third largest continent, and is also a portion of the third largest supercontinent if North and South America are combined into the Americas and Africa, Europe, and Asia are considered to be part of one supercontinent called Afro-Eurasia.\n",
      "\n",
      "\n",
      "With an estimated population of 580 million and an area of 24,709,000 km2 (9,540,000 mi2), the northernmost of the two continents of the Western Hemisphere is bounded by the Pacific Ocean on the west; the Atlantic Ocean on the east; the Caribbean Sea on the south; and the Arctic Ocean on the north.\n",
      "\n",
      "\n",
      "The northern half of North America is sparsely populated and covered mostly by Canada, except for the northeastern portion, which is occupied by Greenland, and the northwestern portion, which is occupied by Alaska, the largest state of the United States.\n",
      "\n",
      "\n",
      "The central and southern portions of the continent are occupied by the contiguous United States, Mexico, and numerous smaller states in Central America and in the Caribbean.\n",
      "\n",
      "\n",
      "The continent is delimited on the southeast by most geographers at the Darién watershed along the Colombia-Panama border, placing all of Panama within North America.\n",
      "\n",
      "\n",
      "Alternatively, a less common view would end North America at the man-made Panama Canal.\n",
      "\n",
      "\n",
      "Islands generally associated with North America include Greenland, the world's largest island, and archipelagos and islands in the Caribbean.\n",
      "\n",
      "\n",
      "The terminology of the Americas is complex, but 'Anglo-America' can describe Canada and the U.S., while 'Latin America' comprises Mexico and the countries of Central America and the Caribbean, as well as the entire continent of South America.\n",
      "\n",
      "\n"
     ]
    }
   ],
   "source": [
    "for sent in sentences:\n",
    "    print(sent)\n",
    "    print(\"\\n\")"
   ]
  },
  {
   "cell_type": "markdown",
   "id": "b8c389bc",
   "metadata": {},
   "source": [
    "## Workd Tokenization"
   ]
  },
  {
   "cell_type": "code",
   "execution_count": 10,
   "id": "4d909737",
   "metadata": {},
   "outputs": [],
   "source": [
    "from nltk.tokenize import word_tokenize"
   ]
  },
  {
   "cell_type": "code",
   "execution_count": 11,
   "id": "f47346a7",
   "metadata": {},
   "outputs": [
    {
     "data": {
      "text/plain": [
       "['North',\n",
       " 'America',\n",
       " 'is',\n",
       " 'the',\n",
       " 'third',\n",
       " 'largest',\n",
       " 'continent',\n",
       " ',',\n",
       " 'and',\n",
       " 'is']"
      ]
     },
     "execution_count": 11,
     "metadata": {},
     "output_type": "execute_result"
    }
   ],
   "source": [
    "words = word_tokenize(t_text)\n",
    "words[0:10]"
   ]
  },
  {
   "cell_type": "code",
   "execution_count": 12,
   "id": "63d06c65",
   "metadata": {},
   "outputs": [
    {
     "data": {
      "text/plain": [
       "292"
      ]
     },
     "execution_count": 12,
     "metadata": {},
     "output_type": "execute_result"
    }
   ],
   "source": [
    "len(words)"
   ]
  },
  {
   "cell_type": "markdown",
   "id": "bdf29a84",
   "metadata": {},
   "source": [
    "## Convert to lower"
   ]
  },
  {
   "cell_type": "code",
   "execution_count": 13,
   "id": "415efcc4",
   "metadata": {},
   "outputs": [],
   "source": [
    "words = list(map(str.lower, words))"
   ]
  },
  {
   "cell_type": "code",
   "execution_count": 14,
   "id": "c06216a1",
   "metadata": {},
   "outputs": [
    {
     "data": {
      "text/plain": [
       "['north',\n",
       " 'america',\n",
       " 'is',\n",
       " 'the',\n",
       " 'third',\n",
       " 'largest',\n",
       " 'continent',\n",
       " ',',\n",
       " 'and',\n",
       " 'is']"
      ]
     },
     "execution_count": 14,
     "metadata": {},
     "output_type": "execute_result"
    }
   ],
   "source": [
    "words[0:10]"
   ]
  },
  {
   "cell_type": "markdown",
   "id": "56e241cc",
   "metadata": {},
   "source": [
    "## Remove Duplicates"
   ]
  },
  {
   "cell_type": "code",
   "execution_count": 15,
   "id": "2db0b37d",
   "metadata": {},
   "outputs": [],
   "source": [
    "words = list(set(words))"
   ]
  },
  {
   "cell_type": "code",
   "execution_count": 16,
   "id": "383b3d5e",
   "metadata": {},
   "outputs": [
    {
     "data": {
      "text/plain": [
       "132"
      ]
     },
     "execution_count": 16,
     "metadata": {},
     "output_type": "execute_result"
    }
   ],
   "source": [
    "len(words)"
   ]
  },
  {
   "cell_type": "markdown",
   "id": "8f239515",
   "metadata": {},
   "source": [
    "## Remove Punctuations and numbers"
   ]
  },
  {
   "cell_type": "code",
   "execution_count": 17,
   "id": "3ca44ed7",
   "metadata": {},
   "outputs": [],
   "source": [
    "words_in_para = []\n",
    "for word in words:\n",
    "    if word.isalpha():\n",
    "        words_in_para.append(word)"
   ]
  },
  {
   "cell_type": "code",
   "execution_count": 18,
   "id": "8ef96ebd",
   "metadata": {},
   "outputs": [
    {
     "data": {
      "text/plain": [
       "['west',\n",
       " 'million',\n",
       " 'island',\n",
       " 'part',\n",
       " 'east',\n",
       " 'an',\n",
       " 'asia',\n",
       " 'watershed',\n",
       " 'while',\n",
       " 'north']"
      ]
     },
     "execution_count": 18,
     "metadata": {},
     "output_type": "execute_result"
    }
   ],
   "source": [
    "words_in_para[0:10]"
   ]
  },
  {
   "cell_type": "code",
   "execution_count": 19,
   "id": "c85f89d0",
   "metadata": {},
   "outputs": [
    {
     "data": {
      "text/plain": [
       "114"
      ]
     },
     "execution_count": 19,
     "metadata": {},
     "output_type": "execute_result"
    }
   ],
   "source": [
    "len(words_in_para)"
   ]
  },
  {
   "cell_type": "markdown",
   "id": "9afd57c2",
   "metadata": {},
   "source": [
    "## Remove Stopwords"
   ]
  },
  {
   "cell_type": "code",
   "execution_count": 20,
   "id": "a1b590ab",
   "metadata": {},
   "outputs": [
    {
     "data": {
      "text/plain": [
       "['i', 'me', 'my', 'myself', 'we', 'our', 'ours', 'ourselves', 'you', \"you're\"]"
      ]
     },
     "execution_count": 20,
     "metadata": {},
     "output_type": "execute_result"
    }
   ],
   "source": [
    "from nltk.corpus import stopwords\n",
    "stopwords.words('english')[0:10]"
   ]
  },
  {
   "cell_type": "code",
   "execution_count": 21,
   "id": "c42f8558",
   "metadata": {},
   "outputs": [
    {
     "data": {
      "text/plain": [
       "['de', 'la', 'que', 'el', 'en', 'y', 'a', 'los', 'del', 'se']"
      ]
     },
     "execution_count": 21,
     "metadata": {},
     "output_type": "execute_result"
    }
   ],
   "source": [
    "stopwords.words('spanish')[0:10]"
   ]
  },
  {
   "cell_type": "code",
   "execution_count": 22,
   "id": "318a4297",
   "metadata": {},
   "outputs": [],
   "source": [
    "new_words = []\n",
    "for word in words_in_para:\n",
    "    if word not in stopwords.words('english'):\n",
    "        new_words.append(word)"
   ]
  },
  {
   "cell_type": "code",
   "execution_count": 23,
   "id": "c14d9b52",
   "metadata": {},
   "outputs": [
    {
     "data": {
      "text/plain": [
       "90"
      ]
     },
     "execution_count": 23,
     "metadata": {},
     "output_type": "execute_result"
    }
   ],
   "source": [
    "len(new_words)"
   ]
  },
  {
   "cell_type": "code",
   "execution_count": 24,
   "id": "0bc2e26a",
   "metadata": {},
   "outputs": [
    {
     "data": {
      "text/plain": [
       "['west',\n",
       " 'million',\n",
       " 'island',\n",
       " 'part',\n",
       " 'east',\n",
       " 'asia',\n",
       " 'watershed',\n",
       " 'north',\n",
       " 'bounded',\n",
       " 'populated']"
      ]
     },
     "execution_count": 24,
     "metadata": {},
     "output_type": "execute_result"
    }
   ],
   "source": [
    "new_words[0:10]"
   ]
  },
  {
   "cell_type": "markdown",
   "id": "605fcbe8",
   "metadata": {},
   "source": [
    "## Stemming and Lemmatization"
   ]
  },
  {
   "cell_type": "markdown",
   "id": "a52ee31f",
   "metadata": {},
   "source": [
    "- Stemming:\n",
    "    - It takes the root of the words\n",
    "    - It removes the last few words or suffix of a word where it misspelt or incorrect words.\n",
    "    - Example: Plays, Playing, Player, Played will be known as \"Play\"\n",
    "- Lemmatization\n",
    "    - It takes the part of the speech\n",
    "    - It converts the text to ameaningful base form by considering its context.\n",
    "    - Example: Studying -> Study, Emptiness -> Empty"
   ]
  },
  {
   "cell_type": "code",
   "execution_count": 25,
   "id": "67dee9e8",
   "metadata": {},
   "outputs": [],
   "source": [
    "from nltk.stem import PorterStemmer\n",
    "ps = PorterStemmer()"
   ]
  },
  {
   "cell_type": "code",
   "execution_count": 26,
   "id": "30207ea7",
   "metadata": {},
   "outputs": [
    {
     "data": {
      "text/plain": [
       "'cycl'"
      ]
     },
     "execution_count": 26,
     "metadata": {},
     "output_type": "execute_result"
    }
   ],
   "source": [
    "ps.stem('cycling')"
   ]
  },
  {
   "cell_type": "code",
   "execution_count": 27,
   "id": "1d3eeb43",
   "metadata": {},
   "outputs": [
    {
     "data": {
      "text/plain": [
       "'empti'"
      ]
     },
     "execution_count": 27,
     "metadata": {},
     "output_type": "execute_result"
    }
   ],
   "source": [
    "ps.stem('Emptiness')"
   ]
  },
  {
   "cell_type": "code",
   "execution_count": 28,
   "id": "4e63495f",
   "metadata": {},
   "outputs": [],
   "source": [
    "from nltk.stem import WordNetLemmatizer\n",
    "wnl = WordNetLemmatizer()"
   ]
  },
  {
   "cell_type": "code",
   "execution_count": 29,
   "id": "b7b39004",
   "metadata": {},
   "outputs": [
    {
     "data": {
      "text/plain": [
       "'play'"
      ]
     },
     "execution_count": 29,
     "metadata": {},
     "output_type": "execute_result"
    }
   ],
   "source": [
    "wnl.lemmatize('playing', 'v')"
   ]
  },
  {
   "cell_type": "code",
   "execution_count": 30,
   "id": "8a92eb4c",
   "metadata": {},
   "outputs": [
    {
     "data": {
      "text/plain": [
       "'cycle'"
      ]
     },
     "execution_count": 30,
     "metadata": {},
     "output_type": "execute_result"
    }
   ],
   "source": [
    "wnl.lemmatize('cycling', 'v')"
   ]
  },
  {
   "cell_type": "markdown",
   "id": "d7498b02",
   "metadata": {},
   "source": [
    "### Stemming"
   ]
  },
  {
   "cell_type": "code",
   "execution_count": 31,
   "id": "29d7f8ba",
   "metadata": {},
   "outputs": [
    {
     "name": "stdout",
     "output_type": "stream",
     "text": [
      "Original: Word west, Stem: west\n",
      "Original: Word million, Stem: million\n",
      "Original: Word island, Stem: island\n",
      "Original: Word part, Stem: part\n",
      "Original: Word east, Stem: east\n",
      "Original: Word asia, Stem: asia\n",
      "Original: Word watershed, Stem: watersh\n",
      "Original: Word north, Stem: north\n",
      "Original: Word bounded, Stem: bound\n",
      "Original: Word populated, Stem: popul\n",
      "Original: Word atlantic, Stem: atlant\n",
      "Original: Word darién, Stem: darién\n",
      "Original: Word one, Stem: one\n",
      "Original: Word northwestern, Stem: northwestern\n",
      "Original: Word southeast, Stem: southeast\n",
      "Original: Word geographers, Stem: geograph\n",
      "Original: Word portion, Stem: portion\n",
      "Original: Word sparsely, Stem: spars\n",
      "Original: Word countries, Stem: countri\n",
      "Original: Word greenland, Stem: greenland\n",
      "Original: Word describe, Stem: describ\n",
      "Original: Word entire, Stem: entir\n",
      "Original: Word portions, Stem: portion\n",
      "Original: Word panama, Stem: panama\n",
      "Original: Word third, Stem: third\n",
      "Original: Word ocean, Stem: ocean\n",
      "Original: Word complex, Stem: complex\n",
      "Original: Word half, Stem: half\n",
      "Original: Word western, Stem: western\n",
      "Original: Word southern, Stem: southern\n",
      "Original: Word considered, Stem: consid\n",
      "Original: Word also, Stem: also\n",
      "Original: Word islands, Stem: island\n",
      "Original: Word within, Stem: within\n",
      "Original: Word called, Stem: call\n",
      "Original: Word estimated, Stem: estim\n",
      "Original: Word northern, Stem: northern\n",
      "Original: Word along, Stem: along\n",
      "Original: Word america, Stem: america\n",
      "Original: Word largest, Stem: largest\n",
      "Original: Word area, Stem: area\n",
      "Original: Word mostly, Stem: mostli\n",
      "Original: Word less, Stem: less\n",
      "Original: Word south, Stem: south\n",
      "Original: Word states, Stem: state\n",
      "Original: Word except, Stem: except\n",
      "Original: Word common, Stem: common\n",
      "Original: Word canal, Stem: canal\n",
      "Original: Word alternatively, Stem: altern\n",
      "Original: Word central, Stem: central\n",
      "Original: Word caribbean, Stem: caribbean\n",
      "Original: Word continents, Stem: contin\n",
      "Original: Word contiguous, Stem: contigu\n",
      "Original: Word united, Stem: unit\n",
      "Original: Word smaller, Stem: smaller\n",
      "Original: Word population, Stem: popul\n",
      "Original: Word covered, Stem: cover\n",
      "Original: Word associated, Stem: associ\n",
      "Original: Word northeastern, Stem: northeastern\n",
      "Original: Word comprises, Stem: compris\n",
      "Original: Word view, Stem: view\n",
      "Original: Word continent, Stem: contin\n",
      "Original: Word mexico, Stem: mexico\n",
      "Original: Word supercontinent, Stem: supercontin\n",
      "Original: Word alaska, Stem: alaska\n",
      "Original: Word occupied, Stem: occupi\n",
      "Original: Word canada, Stem: canada\n",
      "Original: Word end, Stem: end\n",
      "Original: Word delimited, Stem: delimit\n",
      "Original: Word terminology, Stem: terminolog\n",
      "Original: Word generally, Stem: gener\n",
      "Original: Word pacific, Stem: pacif\n",
      "Original: Word two, Stem: two\n",
      "Original: Word sea, Stem: sea\n",
      "Original: Word world, Stem: world\n",
      "Original: Word americas, Stem: america\n",
      "Original: Word numerous, Stem: numer\n",
      "Original: Word placing, Stem: place\n",
      "Original: Word hemisphere, Stem: hemispher\n",
      "Original: Word would, Stem: would\n",
      "Original: Word combined, Stem: combin\n",
      "Original: Word include, Stem: includ\n",
      "Original: Word arctic, Stem: arctic\n",
      "Original: Word northernmost, Stem: northernmost\n",
      "Original: Word europe, Stem: europ\n",
      "Original: Word africa, Stem: africa\n",
      "Original: Word archipelagos, Stem: archipelago\n",
      "Original: Word well, Stem: well\n",
      "Original: Word border, Stem: border\n",
      "Original: Word state, Stem: state\n"
     ]
    }
   ],
   "source": [
    "stemmed_words = []\n",
    "for word in new_words:\n",
    "    print(f\"Original: Word {word}, Stem: {ps.stem(word)}\")\n",
    "    if ps.stem(word) not in stemmed_words:\n",
    "        stemmed_words.append(ps.stem(word))"
   ]
  },
  {
   "cell_type": "code",
   "execution_count": 32,
   "id": "8b140937",
   "metadata": {},
   "outputs": [
    {
     "data": {
      "text/plain": [
       "84"
      ]
     },
     "execution_count": 32,
     "metadata": {},
     "output_type": "execute_result"
    }
   ],
   "source": [
    "len(stemmed_words)"
   ]
  },
  {
   "cell_type": "code",
   "execution_count": 33,
   "id": "53400506",
   "metadata": {
    "scrolled": true
   },
   "outputs": [
    {
     "data": {
      "text/plain": [
       "['west',\n",
       " 'million',\n",
       " 'island',\n",
       " 'part',\n",
       " 'east',\n",
       " 'asia',\n",
       " 'watersh',\n",
       " 'north',\n",
       " 'bound',\n",
       " 'popul']"
      ]
     },
     "execution_count": 33,
     "metadata": {},
     "output_type": "execute_result"
    }
   ],
   "source": [
    "stemmed_words[0:10]"
   ]
  },
  {
   "cell_type": "markdown",
   "id": "adf52d08",
   "metadata": {},
   "source": [
    "## N-Grams"
   ]
  },
  {
   "cell_type": "markdown",
   "id": "b989fcb9",
   "metadata": {},
   "source": [
    "N-grams are combinations of adjacent words or letters of length n in the source text.\n",
    "1. Group(contiguous sequesnce) of n words or characters\n",
    "2. P(W | h) probability of word w given per history h\n",
    "3. Probabilistic Model of words sequence.\n",
    "4. Assign to the sequence of words.\n",
    "- Unigram 1\n",
    "- Bigram  2\n",
    "- Trigram 3\n",
    "- ________________________ .\n",
    "- ________________________ .\n",
    "- ________________________ .\n",
    "- n-gram  n\n",
    "\n",
    "### Applications of N-Grams\n",
    "- **Spelling Error Detection / Spelling Error Correction**\n",
    "    - Text Comparison\n",
    "    - Information Retrieval\n",
    "    - Automatic Text Categorization\n",
    "    - AutoComplete"
   ]
  },
  {
   "cell_type": "code",
   "execution_count": 34,
   "id": "500d2625",
   "metadata": {},
   "outputs": [],
   "source": [
    "ng = nltk.ngrams(\"The quick brown fox jumps over the lazy dog\".split(), 3)"
   ]
  },
  {
   "cell_type": "code",
   "execution_count": 35,
   "id": "b3581309",
   "metadata": {},
   "outputs": [
    {
     "name": "stdout",
     "output_type": "stream",
     "text": [
      "('The', 'quick', 'brown')\n",
      "('quick', 'brown', 'fox')\n",
      "('brown', 'fox', 'jumps')\n",
      "('fox', 'jumps', 'over')\n",
      "('jumps', 'over', 'the')\n",
      "('over', 'the', 'lazy')\n",
      "('the', 'lazy', 'dog')\n"
     ]
    }
   ],
   "source": [
    "for a in ng:\n",
    "    print(a)"
   ]
  },
  {
   "cell_type": "markdown",
   "id": "c3816c22",
   "metadata": {},
   "source": [
    "### Parts of Speech Tagging"
   ]
  },
  {
   "cell_type": "markdown",
   "id": "e24b0cba",
   "metadata": {},
   "source": [
    "- CC coordinating conjunction\n",
    "- CD cardinal digit\n",
    "- DT determiner\n",
    "- EX existential there (like: \"there is\" ... think of it like \"there exists\")\n",
    "- FW foreign word\n",
    "- IN preposition/subordinating conjunction\n",
    "- JJ adjective 'big'\n",
    "- JJR adjective, comparative 'bigger'\n",
    "- JJS adjective, superlative 'biggest'\n",
    "- LS list marker 1)\n",
    "- MD modal could, will\n",
    "- NN noun, singular 'desk'\n",
    "- NNS noun plural 'desks'\n",
    "- NNP proper noun, singular 'Harrison'\n",
    "- NNPS proper noun, plural 'Americans'\n",
    "- PDT predeterminer 'all the kids'\n",
    "- POS possessive ending parent's\n",
    "- PRP personal pronoun I, he, she\n",
    "- PRP possessive pronoun my, his, hers\n",
    "- RB adverb very, silently,\n",
    "- RBR adverb, comparative better\n",
    "- RBS adverb, superlative best\n",
    "- RP particle give up\n",
    "- TO to go 'to' the store.\n",
    "- UH interjection errrrrrrrm\n",
    "- VB verb, base form take\n",
    "- VBD verb, past tense took\n",
    "- VBG verb, gerund/present participle taking\n",
    "- VBN verb, past participle taken\n",
    "- VBP verb, sing. present, non-3d take\n",
    "- VBZ verb, 3rd person sing. present takes\n",
    "- WDT wh-determiner which\n",
    "- WP wh-pronoun who, what\n",
    "- WP possessive wh-pronoun whose\n",
    "- WRB wh-abverb where, when"
   ]
  },
  {
   "cell_type": "code",
   "execution_count": 36,
   "id": "35ddb4cc",
   "metadata": {},
   "outputs": [
    {
     "data": {
      "text/plain": [
       "[('west', 'JJS'),\n",
       " ('million', 'CD'),\n",
       " ('island', 'JJ'),\n",
       " ('part', 'NN'),\n",
       " ('east', 'JJ'),\n",
       " ('asia', 'NN'),\n",
       " ('watershed', 'VBD'),\n",
       " ('north', 'RB'),\n",
       " ('bounded', 'VBN'),\n",
       " ('populated', 'VBN'),\n",
       " ('atlantic', 'JJ'),\n",
       " ('darién', 'NN'),\n",
       " ('one', 'CD'),\n",
       " ('northwestern', 'JJ'),\n",
       " ('southeast', 'NN'),\n",
       " ('geographers', 'NNS'),\n",
       " ('portion', 'NN'),\n",
       " ('sparsely', 'RB'),\n",
       " ('countries', 'NNS'),\n",
       " ('greenland', 'VBP'),\n",
       " ('describe', 'NN'),\n",
       " ('entire', 'JJ'),\n",
       " ('portions', 'NNS'),\n",
       " ('panama', 'VBP'),\n",
       " ('third', 'JJ'),\n",
       " ('ocean', 'NN'),\n",
       " ('complex', 'JJ'),\n",
       " ('half', 'NN'),\n",
       " ('western', 'JJ'),\n",
       " ('southern', 'JJ'),\n",
       " ('considered', 'VBN'),\n",
       " ('also', 'RB'),\n",
       " ('islands', 'VBZ'),\n",
       " ('within', 'IN'),\n",
       " ('called', 'VBN'),\n",
       " ('estimated', 'JJ'),\n",
       " ('northern', 'RB'),\n",
       " ('along', 'IN'),\n",
       " ('america', 'RB'),\n",
       " ('largest', 'JJS'),\n",
       " ('area', 'NN'),\n",
       " ('mostly', 'RB'),\n",
       " ('less', 'RBR'),\n",
       " ('south', 'JJ'),\n",
       " ('states', 'NNS'),\n",
       " ('except', 'IN'),\n",
       " ('common', 'JJ'),\n",
       " ('canal', 'NN'),\n",
       " ('alternatively', 'RB'),\n",
       " ('central', 'JJ'),\n",
       " ('caribbean', 'JJ'),\n",
       " ('continents', 'NNS'),\n",
       " ('contiguous', 'JJ'),\n",
       " ('united', 'JJ'),\n",
       " ('smaller', 'JJR'),\n",
       " ('population', 'NN'),\n",
       " ('covered', 'VBD'),\n",
       " ('associated', 'JJ'),\n",
       " ('northeastern', 'JJ'),\n",
       " ('comprises', 'NNS'),\n",
       " ('view', 'VBP'),\n",
       " ('continent', 'NN'),\n",
       " ('mexico', 'NN'),\n",
       " ('supercontinent', 'NN'),\n",
       " ('alaska', 'NN'),\n",
       " ('occupied', 'VBD'),\n",
       " ('canada', 'JJ'),\n",
       " ('end', 'NN'),\n",
       " ('delimited', 'VBD'),\n",
       " ('terminology', 'NN'),\n",
       " ('generally', 'RB'),\n",
       " ('pacific', 'JJ'),\n",
       " ('two', 'CD'),\n",
       " ('sea', 'NN'),\n",
       " ('world', 'NN'),\n",
       " ('americas', 'VBP'),\n",
       " ('numerous', 'JJ'),\n",
       " ('placing', 'NN'),\n",
       " ('hemisphere', 'RB'),\n",
       " ('would', 'MD'),\n",
       " ('combined', 'VB'),\n",
       " ('include', 'VB'),\n",
       " ('arctic', 'JJ'),\n",
       " ('northernmost', 'IN'),\n",
       " ('europe', 'NN'),\n",
       " ('africa', 'NN'),\n",
       " ('archipelagos', 'RB'),\n",
       " ('well', 'RB'),\n",
       " ('border', 'VB'),\n",
       " ('state', 'NN')]"
      ]
     },
     "execution_count": 36,
     "metadata": {},
     "output_type": "execute_result"
    }
   ],
   "source": [
    "nltk.pos_tag(new_words)"
   ]
  },
  {
   "cell_type": "code",
   "execution_count": 37,
   "id": "1239623b",
   "metadata": {},
   "outputs": [
    {
     "data": {
      "text/plain": [
       "[('Ram', 'NNP'),\n",
       " ('and', 'CC'),\n",
       " ('Shyam', 'NNP'),\n",
       " ('went', 'VBD'),\n",
       " ('to', 'TO'),\n",
       " ('the', 'DT'),\n",
       " ('School', 'NNP')]"
      ]
     },
     "execution_count": 37,
     "metadata": {},
     "output_type": "execute_result"
    }
   ],
   "source": [
    "nltk.pos_tag(\"Ram and Shyam went to the School\".split())"
   ]
  },
  {
   "cell_type": "markdown",
   "id": "7dc30b63",
   "metadata": {},
   "source": [
    "## Named Entity Resolution"
   ]
  },
  {
   "cell_type": "code",
   "execution_count": 38,
   "id": "aac14e23",
   "metadata": {
    "scrolled": false
   },
   "outputs": [
    {
     "name": "stdout",
     "output_type": "stream",
     "text": [
      "(S\n",
      "  (NE North/NNP America/NNP)\n",
      "  is/VBZ\n",
      "  the/DT\n",
      "  third/JJ\n",
      "  largest/JJS\n",
      "  continent/NN\n",
      "  ,/,\n",
      "  and/CC\n",
      "  is/VBZ\n",
      "  also/RB\n",
      "  a/DT\n",
      "  portion/NN\n",
      "  of/IN\n",
      "  the/DT\n",
      "  third/JJ\n",
      "  largest/JJS\n",
      "  supercontinent/NN\n",
      "  if/IN\n",
      "  (NE North/NNP)\n",
      "  and/CC\n",
      "  (NE South/NNP America/NNP)\n",
      "  are/VBP\n",
      "  combined/VBN\n",
      "  into/IN\n",
      "  the/DT\n",
      "  (NE Americas/NNPS)\n",
      "  and/CC\n",
      "  (NE Africa/NNP)\n",
      "  ,/,\n",
      "  (NE Europe/NNP)\n",
      "  ,/,\n",
      "  and/CC\n",
      "  (NE Asia/NNP)\n",
      "  are/VBP\n",
      "  considered/VBN\n",
      "  to/TO\n",
      "  be/VB\n",
      "  part/NN\n",
      "  of/IN\n",
      "  one/CD\n",
      "  supercontinent/NN\n",
      "  called/VBN\n",
      "  Afro-Eurasia/NNP\n",
      "  ./.\n",
      "  With/IN\n",
      "  an/DT\n",
      "  estimated/JJ\n",
      "  population/NN\n",
      "  of/IN\n",
      "  580/CD\n",
      "  million/CD\n",
      "  and/CC\n",
      "  an/DT\n",
      "  area/NN\n",
      "  of/IN\n",
      "  24,709,000/CD\n",
      "  km2/NNS\n",
      "  (/(\n",
      "  9,540,000/CD\n",
      "  mi2/NN\n",
      "  )/)\n",
      "  ,/,\n",
      "  the/DT\n",
      "  northernmost/NN\n",
      "  of/IN\n",
      "  the/DT\n",
      "  two/CD\n",
      "  continents/NNS\n",
      "  of/IN\n",
      "  the/DT\n",
      "  (NE Western/NNP Hemisphere/NNP)\n",
      "  is/VBZ\n",
      "  bounded/VBN\n",
      "  by/IN\n",
      "  the/DT\n",
      "  (NE Pacific/NNP Ocean/NNP)\n",
      "  on/IN\n",
      "  the/DT\n",
      "  west/NN\n",
      "  ;/:\n",
      "  the/DT\n",
      "  (NE Atlantic/NNP Ocean/NNP)\n",
      "  on/IN\n",
      "  the/DT\n",
      "  east/NN\n",
      "  ;/:\n",
      "  the/DT\n",
      "  (NE Caribbean/NNP Sea/NNP)\n",
      "  on/IN\n",
      "  the/DT\n",
      "  south/NN\n",
      "  ;/:\n",
      "  and/CC\n",
      "  the/DT\n",
      "  (NE Arctic/NNP Ocean/NNP)\n",
      "  on/IN\n",
      "  the/DT\n",
      "  north/NN\n",
      "  ./.\n",
      "  The/DT\n",
      "  northern/JJ\n",
      "  half/NN\n",
      "  of/IN\n",
      "  (NE North/NNP America/NNP)\n",
      "  is/VBZ\n",
      "  sparsely/RB\n",
      "  populated/JJ\n",
      "  and/CC\n",
      "  covered/VBN\n",
      "  mostly/RB\n",
      "  by/IN\n",
      "  (NE Canada/NNP)\n",
      "  ,/,\n",
      "  except/IN\n",
      "  for/IN\n",
      "  the/DT\n",
      "  northeastern/JJ\n",
      "  portion/NN\n",
      "  ,/,\n",
      "  which/WDT\n",
      "  is/VBZ\n",
      "  occupied/VBN\n",
      "  by/IN\n",
      "  (NE Greenland/NNP)\n",
      "  ,/,\n",
      "  and/CC\n",
      "  the/DT\n",
      "  northwestern/JJ\n",
      "  portion/NN\n",
      "  ,/,\n",
      "  which/WDT\n",
      "  is/VBZ\n",
      "  occupied/VBN\n",
      "  by/IN\n",
      "  (NE Alaska/NNP)\n",
      "  ,/,\n",
      "  the/DT\n",
      "  largest/JJS\n",
      "  state/NN\n",
      "  of/IN\n",
      "  the/DT\n",
      "  (NE United/NNP States/NNPS)\n",
      "  ./.\n",
      "  The/DT\n",
      "  central/JJ\n",
      "  and/CC\n",
      "  southern/JJ\n",
      "  portions/NNS\n",
      "  of/IN\n",
      "  the/DT\n",
      "  continent/NN\n",
      "  are/VBP\n",
      "  occupied/VBN\n",
      "  by/IN\n",
      "  the/DT\n",
      "  contiguous/JJ\n",
      "  (NE United/NNP States/NNPS)\n",
      "  ,/,\n",
      "  (NE Mexico/NNP)\n",
      "  ,/,\n",
      "  and/CC\n",
      "  numerous/JJ\n",
      "  smaller/JJR\n",
      "  states/NNS\n",
      "  in/IN\n",
      "  (NE Central/NNP America/NNP)\n",
      "  and/CC\n",
      "  in/IN\n",
      "  the/DT\n",
      "  (NE Caribbean/NNP)\n",
      "  ./.\n",
      "  The/DT\n",
      "  continent/NN\n",
      "  is/VBZ\n",
      "  delimited/VBN\n",
      "  on/IN\n",
      "  the/DT\n",
      "  southeast/NN\n",
      "  by/IN\n",
      "  most/JJS\n",
      "  geographers/NNS\n",
      "  at/IN\n",
      "  the/DT\n",
      "  (NE Darién/NNP)\n",
      "  watershed/VBD\n",
      "  along/IN\n",
      "  the/DT\n",
      "  Colombia-Panama/NNP\n",
      "  border/NN\n",
      "  ,/,\n",
      "  placing/VBG\n",
      "  all/DT\n",
      "  of/IN\n",
      "  (NE Panama/NNP)\n",
      "  within/IN\n",
      "  (NE North/NNP America/NNP)\n",
      "  ./.\n",
      "  Alternatively/RB\n",
      "  ,/,\n",
      "  a/DT\n",
      "  less/RBR\n",
      "  common/JJ\n",
      "  view/NN\n",
      "  would/MD\n",
      "  end/VB\n",
      "  (NE North/NNP America/NNP)\n",
      "  at/IN\n",
      "  the/DT\n",
      "  man-made/JJ\n",
      "  (NE Panama/NNP Canal/NNP)\n",
      "  ./.\n",
      "  Islands/NNP\n",
      "  generally/RB\n",
      "  associated/VBN\n",
      "  with/IN\n",
      "  (NE North/NNP America/NNP)\n",
      "  include/VBP\n",
      "  (NE Greenland/NNP)\n",
      "  ,/,\n",
      "  the/DT\n",
      "  world/NN\n",
      "  's/POS\n",
      "  largest/JJS\n",
      "  island/NN\n",
      "  ,/,\n",
      "  and/CC\n",
      "  archipelagos/NNS\n",
      "  and/CC\n",
      "  islands/NNS\n",
      "  in/IN\n",
      "  the/DT\n",
      "  (NE Caribbean/NNP)\n",
      "  ./.\n",
      "  The/DT\n",
      "  terminology/NN\n",
      "  of/IN\n",
      "  the/DT\n",
      "  (NE Americas/NNPS)\n",
      "  is/VBZ\n",
      "  complex/JJ\n",
      "  ,/,\n",
      "  but/CC\n",
      "  'Anglo-America/NNP\n",
      "  '/POS\n",
      "  can/MD\n",
      "  describe/VB\n",
      "  (NE Canada/NNP)\n",
      "  and/CC\n",
      "  the/DT\n",
      "  (NE U.S./NNP)\n",
      "  ,/,\n",
      "  while/IN\n",
      "  'Latin/POS\n",
      "  (NE America/NNP)\n",
      "  '/POS\n",
      "  comprises/NNS\n",
      "  (NE Mexico/NNP)\n",
      "  and/CC\n",
      "  the/DT\n",
      "  countries/NNS\n",
      "  of/IN\n",
      "  (NE Central/NNP America/NNP)\n",
      "  and/CC\n",
      "  the/DT\n",
      "  (NE Caribbean/NNP)\n",
      "  ,/,\n",
      "  as/RB\n",
      "  well/RB\n",
      "  as/IN\n",
      "  the/DT\n",
      "  entire/JJ\n",
      "  continent/NN\n",
      "  of/IN\n",
      "  (NE South/NNP America/NNP)\n",
      "  ./.)\n"
     ]
    }
   ],
   "source": [
    "print(nltk.ne_chunk(nltk.pos_tag(word_tokenize(t_text)), binary=True))"
   ]
  },
  {
   "cell_type": "markdown",
   "id": "f2996bfc",
   "metadata": {},
   "source": [
    "### Chunking And Chinking\n",
    "- Chunking: \n",
    "    - It is simpleset technique used for entity detection\n",
    "    - Chinking is a way to remove chunk from chunk\n",
    "    - It is the process of extracting meaningful short phrases from sentences by analyzing the parts of speech\n",
    "    - Words or Patterns can also be defined. These should not be a part of chunk and such words are known as Chinks.\n",
    "    - Chunk Pattern are made by normal regular expression which are designed and modified to match the part of speech tags\n",
    "- Chunking"
   ]
  },
  {
   "cell_type": "markdown",
   "id": "290bfdef",
   "metadata": {},
   "source": [
    "### Using Spacy"
   ]
  },
  {
   "cell_type": "code",
   "execution_count": 40,
   "id": "340dc8ae",
   "metadata": {},
   "outputs": [],
   "source": [
    "import spacy\n",
    "nlp = spacy.load('en_core_web_sm')"
   ]
  },
  {
   "cell_type": "code",
   "execution_count": 41,
   "id": "4df224fc",
   "metadata": {},
   "outputs": [],
   "source": [
    "doc = nlp(t_text)"
   ]
  },
  {
   "cell_type": "code",
   "execution_count": 42,
   "id": "bc4cf28c",
   "metadata": {},
   "outputs": [
    {
     "name": "stdout",
     "output_type": "stream",
     "text": [
      "North           NNP        PROPN      noun, proper singular\n",
      "America         NNP        PROPN      noun, proper singular\n",
      "is              VBZ        AUX        verb, 3rd person singular present\n",
      "the             DT         DET        determiner\n",
      "third           RB         ADV        adverb\n",
      "largest         JJS        ADJ        adjective, superlative\n",
      "continent       NN         NOUN       noun, singular or mass\n",
      ",               ,          PUNCT      punctuation mark, comma\n",
      "and             CC         CCONJ      conjunction, coordinating\n",
      "is              VBZ        AUX        verb, 3rd person singular present\n",
      "also            RB         ADV        adverb\n",
      "a               DT         DET        determiner\n",
      "portion         NN         NOUN       noun, singular or mass\n",
      "of              IN         ADP        conjunction, subordinating or preposition\n",
      "the             DT         DET        determiner\n",
      "third           RB         ADV        adverb\n",
      "largest         JJS        ADJ        adjective, superlative\n",
      "supercontinent  NN         NOUN       noun, singular or mass\n",
      "if              IN         SCONJ      conjunction, subordinating or preposition\n",
      "North           NNP        PROPN      noun, proper singular\n",
      "and             CC         CCONJ      conjunction, coordinating\n",
      "South           NNP        PROPN      noun, proper singular\n",
      "America         NNP        PROPN      noun, proper singular\n",
      "are             VBP        AUX        verb, non-3rd person singular present\n",
      "combined        VBN        VERB       verb, past participle\n",
      "into            IN         ADP        conjunction, subordinating or preposition\n",
      "the             DT         DET        determiner\n",
      "Americas        NNPS       PROPN      noun, proper plural\n",
      "and             CC         CCONJ      conjunction, coordinating\n",
      "Africa          NNP        PROPN      noun, proper singular\n",
      ",               ,          PUNCT      punctuation mark, comma\n",
      "Europe          NNP        PROPN      noun, proper singular\n",
      ",               ,          PUNCT      punctuation mark, comma\n",
      "and             CC         CCONJ      conjunction, coordinating\n",
      "Asia            NNP        PROPN      noun, proper singular\n",
      "are             VBP        AUX        verb, non-3rd person singular present\n",
      "considered      VBN        VERB       verb, past participle\n",
      "to              TO         PART       infinitival \"to\"\n",
      "be              VB         AUX        verb, base form\n",
      "part            NN         NOUN       noun, singular or mass\n",
      "of              IN         ADP        conjunction, subordinating or preposition\n",
      "one             CD         NUM        cardinal number\n",
      "supercontinent  NN         NOUN       noun, singular or mass\n",
      "called          VBN        VERB       verb, past participle\n",
      "Afro            NNP        PROPN      noun, proper singular\n",
      "-               HYPH       PUNCT      punctuation mark, hyphen\n",
      "Eurasia         NNP        PROPN      noun, proper singular\n",
      ".               .          PUNCT      punctuation mark, sentence closer\n",
      "With            IN         ADP        conjunction, subordinating or preposition\n",
      "an              DT         DET        determiner\n",
      "estimated       VBN        VERB       verb, past participle\n",
      "population      NN         NOUN       noun, singular or mass\n",
      "of              IN         ADP        conjunction, subordinating or preposition\n",
      "580             CD         NUM        cardinal number\n",
      "million         CD         NUM        cardinal number\n",
      "and             CC         CCONJ      conjunction, coordinating\n",
      "an              DT         DET        determiner\n",
      "area            NN         NOUN       noun, singular or mass\n",
      "of              IN         ADP        conjunction, subordinating or preposition\n",
      "24,709,000      CD         NUM        cardinal number\n",
      "km2             NN         NOUN       noun, singular or mass\n",
      "(               -LRB-      PUNCT      left round bracket\n",
      "9,540,000       CD         NUM        cardinal number\n",
      "mi2             NN         NOUN       noun, singular or mass\n",
      ")               -RRB-      PUNCT      right round bracket\n",
      ",               ,          PUNCT      punctuation mark, comma\n",
      "the             DT         DET        determiner\n",
      "northernmost    NN         NOUN       noun, singular or mass\n",
      "of              IN         ADP        conjunction, subordinating or preposition\n",
      "the             DT         DET        determiner\n",
      "two             CD         NUM        cardinal number\n",
      "continents      NNS        NOUN       noun, plural\n",
      "of              IN         ADP        conjunction, subordinating or preposition\n",
      "the             DT         DET        determiner\n",
      "Western         NNP        PROPN      noun, proper singular\n",
      "Hemisphere      NNP        PROPN      noun, proper singular\n",
      "is              VBZ        AUX        verb, 3rd person singular present\n",
      "bounded         VBN        VERB       verb, past participle\n",
      "by              IN         ADP        conjunction, subordinating or preposition\n",
      "the             DT         DET        determiner\n",
      "Pacific         NNP        PROPN      noun, proper singular\n",
      "Ocean           NNP        PROPN      noun, proper singular\n",
      "on              IN         ADP        conjunction, subordinating or preposition\n",
      "the             DT         DET        determiner\n",
      "west            NN         NOUN       noun, singular or mass\n",
      ";               :          PUNCT      punctuation mark, colon or ellipsis\n",
      "the             DT         DET        determiner\n",
      "Atlantic        NNP        PROPN      noun, proper singular\n",
      "Ocean           NNP        PROPN      noun, proper singular\n",
      "on              IN         ADP        conjunction, subordinating or preposition\n",
      "the             DT         DET        determiner\n",
      "east            NN         NOUN       noun, singular or mass\n",
      ";               :          PUNCT      punctuation mark, colon or ellipsis\n",
      "the             DT         DET        determiner\n",
      "Caribbean       NNP        PROPN      noun, proper singular\n",
      "Sea             NNP        PROPN      noun, proper singular\n",
      "on              IN         ADP        conjunction, subordinating or preposition\n",
      "the             DT         DET        determiner\n",
      "south           NN         NOUN       noun, singular or mass\n",
      ";               :          PUNCT      punctuation mark, colon or ellipsis\n",
      "and             CC         CCONJ      conjunction, coordinating\n",
      "the             DT         DET        determiner\n",
      "Arctic          NNP        PROPN      noun, proper singular\n",
      "Ocean           NNP        PROPN      noun, proper singular\n",
      "on              IN         ADP        conjunction, subordinating or preposition\n",
      "the             DT         DET        determiner\n",
      "north           NN         NOUN       noun, singular or mass\n",
      ".               .          PUNCT      punctuation mark, sentence closer\n",
      "The             DT         DET        determiner\n",
      "northern        JJ         ADJ        adjective (English), other noun-modifier (Chinese)\n",
      "half            NN         NOUN       noun, singular or mass\n",
      "of              IN         ADP        conjunction, subordinating or preposition\n",
      "North           NNP        PROPN      noun, proper singular\n",
      "America         NNP        PROPN      noun, proper singular\n",
      "is              VBZ        AUX        verb, 3rd person singular present\n",
      "sparsely        RB         ADV        adverb\n",
      "populated       VBN        VERB       verb, past participle\n",
      "and             CC         CCONJ      conjunction, coordinating\n",
      "covered         VBN        VERB       verb, past participle\n",
      "mostly          RB         ADV        adverb\n",
      "by              IN         ADP        conjunction, subordinating or preposition\n",
      "Canada          NNP        PROPN      noun, proper singular\n",
      ",               ,          PUNCT      punctuation mark, comma\n",
      "except          IN         SCONJ      conjunction, subordinating or preposition\n",
      "for             IN         ADP        conjunction, subordinating or preposition\n",
      "the             DT         DET        determiner\n",
      "northeastern    JJ         ADJ        adjective (English), other noun-modifier (Chinese)\n",
      "portion         NN         NOUN       noun, singular or mass\n",
      ",               ,          PUNCT      punctuation mark, comma\n",
      "which           WDT        PRON       wh-determiner\n",
      "is              VBZ        AUX        verb, 3rd person singular present\n",
      "occupied        VBN        VERB       verb, past participle\n",
      "by              IN         ADP        conjunction, subordinating or preposition\n",
      "Greenland       NNP        PROPN      noun, proper singular\n",
      ",               ,          PUNCT      punctuation mark, comma\n",
      "and             CC         CCONJ      conjunction, coordinating\n",
      "the             DT         DET        determiner\n",
      "northwestern    JJ         ADJ        adjective (English), other noun-modifier (Chinese)\n",
      "portion         NN         NOUN       noun, singular or mass\n",
      ",               ,          PUNCT      punctuation mark, comma\n",
      "which           WDT        PRON       wh-determiner\n",
      "is              VBZ        AUX        verb, 3rd person singular present\n",
      "occupied        VBN        VERB       verb, past participle\n",
      "by              IN         ADP        conjunction, subordinating or preposition\n",
      "Alaska          NNP        PROPN      noun, proper singular\n",
      ",               ,          PUNCT      punctuation mark, comma\n",
      "the             DT         DET        determiner\n",
      "largest         JJS        ADJ        adjective, superlative\n",
      "state           NN         NOUN       noun, singular or mass\n",
      "of              IN         ADP        conjunction, subordinating or preposition\n",
      "the             DT         DET        determiner\n",
      "United          NNP        PROPN      noun, proper singular\n",
      "States          NNP        PROPN      noun, proper singular\n",
      ".               .          PUNCT      punctuation mark, sentence closer\n",
      "The             DT         DET        determiner\n",
      "central         JJ         ADJ        adjective (English), other noun-modifier (Chinese)\n",
      "and             CC         CCONJ      conjunction, coordinating\n",
      "southern        JJ         ADJ        adjective (English), other noun-modifier (Chinese)\n",
      "portions        NNS        NOUN       noun, plural\n",
      "of              IN         ADP        conjunction, subordinating or preposition\n",
      "the             DT         DET        determiner\n",
      "continent       NN         NOUN       noun, singular or mass\n",
      "are             VBP        AUX        verb, non-3rd person singular present\n",
      "occupied        VBN        VERB       verb, past participle\n",
      "by              IN         ADP        conjunction, subordinating or preposition\n",
      "the             DT         DET        determiner\n",
      "contiguous      JJ         ADJ        adjective (English), other noun-modifier (Chinese)\n",
      "United          NNP        PROPN      noun, proper singular\n",
      "States          NNP        PROPN      noun, proper singular\n",
      ",               ,          PUNCT      punctuation mark, comma\n",
      "Mexico          NNP        PROPN      noun, proper singular\n",
      ",               ,          PUNCT      punctuation mark, comma\n",
      "and             CC         CCONJ      conjunction, coordinating\n",
      "numerous        JJ         ADJ        adjective (English), other noun-modifier (Chinese)\n",
      "smaller         JJR        ADJ        adjective, comparative\n",
      "states          NNS        NOUN       noun, plural\n",
      "in              IN         ADP        conjunction, subordinating or preposition\n",
      "Central         NNP        PROPN      noun, proper singular\n",
      "America         NNP        PROPN      noun, proper singular\n",
      "and             CC         CCONJ      conjunction, coordinating\n",
      "in              IN         ADP        conjunction, subordinating or preposition\n",
      "the             DT         DET        determiner\n",
      "Caribbean       NNP        PROPN      noun, proper singular\n",
      ".               .          PUNCT      punctuation mark, sentence closer\n",
      "The             DT         DET        determiner\n",
      "continent       NN         NOUN       noun, singular or mass\n",
      "is              VBZ        AUX        verb, 3rd person singular present\n",
      "delimited       VBN        VERB       verb, past participle\n",
      "on              IN         ADP        conjunction, subordinating or preposition\n",
      "the             DT         DET        determiner\n",
      "southeast       NN         NOUN       noun, singular or mass\n",
      "by              IN         ADP        conjunction, subordinating or preposition\n",
      "most            JJS        ADJ        adjective, superlative\n",
      "geographers     NNS        NOUN       noun, plural\n",
      "at              IN         ADP        conjunction, subordinating or preposition\n",
      "the             DT         DET        determiner\n",
      "Darién          NNP        PROPN      noun, proper singular\n",
      "watershed       VBD        VERB       verb, past tense\n",
      "along           IN         ADP        conjunction, subordinating or preposition\n",
      "the             DT         DET        determiner\n",
      "Colombia        NNP        PROPN      noun, proper singular\n",
      "-               HYPH       PUNCT      punctuation mark, hyphen\n",
      "Panama          NNP        PROPN      noun, proper singular\n",
      "border          NN         NOUN       noun, singular or mass\n",
      ",               ,          PUNCT      punctuation mark, comma\n",
      "placing         VBG        VERB       verb, gerund or present participle\n",
      "all             DT         PRON       determiner\n",
      "of              IN         ADP        conjunction, subordinating or preposition\n",
      "Panama          NNP        PROPN      noun, proper singular\n",
      "within          IN         ADP        conjunction, subordinating or preposition\n",
      "North           NNP        PROPN      noun, proper singular\n",
      "America         NNP        PROPN      noun, proper singular\n",
      ".               .          PUNCT      punctuation mark, sentence closer\n",
      "Alternatively   RB         ADV        adverb\n",
      ",               ,          PUNCT      punctuation mark, comma\n",
      "a               DT         DET        determiner\n",
      "less            RBR        ADV        adverb, comparative\n",
      "common          JJ         ADJ        adjective (English), other noun-modifier (Chinese)\n",
      "view            NN         NOUN       noun, singular or mass\n",
      "would           MD         AUX        verb, modal auxiliary\n",
      "end             VB         VERB       verb, base form\n",
      "North           NNP        PROPN      noun, proper singular\n",
      "America         NNP        PROPN      noun, proper singular\n",
      "at              IN         ADP        conjunction, subordinating or preposition\n",
      "the             DT         DET        determiner\n",
      "man             NN         NOUN       noun, singular or mass\n",
      "-               HYPH       PUNCT      punctuation mark, hyphen\n",
      "made            VBN        VERB       verb, past participle\n",
      "Panama          NNP        PROPN      noun, proper singular\n",
      "Canal           NNP        PROPN      noun, proper singular\n",
      ".               .          PUNCT      punctuation mark, sentence closer\n",
      "Islands         NNP        PROPN      noun, proper singular\n",
      "generally       RB         ADV        adverb\n",
      "associated      VBN        VERB       verb, past participle\n",
      "with            IN         ADP        conjunction, subordinating or preposition\n",
      "North           NNP        PROPN      noun, proper singular\n",
      "America         NNP        PROPN      noun, proper singular\n",
      "include         VBP        VERB       verb, non-3rd person singular present\n",
      "Greenland       NNP        PROPN      noun, proper singular\n",
      ",               ,          PUNCT      punctuation mark, comma\n",
      "the             DT         DET        determiner\n",
      "world           NN         NOUN       noun, singular or mass\n",
      "'s              POS        PART       possessive ending\n",
      "largest         JJS        ADJ        adjective, superlative\n",
      "island          NN         NOUN       noun, singular or mass\n",
      ",               ,          PUNCT      punctuation mark, comma\n",
      "and             CC         CCONJ      conjunction, coordinating\n",
      "archipelagos    NNS        NOUN       noun, plural\n",
      "and             CC         CCONJ      conjunction, coordinating\n",
      "islands         NNS        NOUN       noun, plural\n",
      "in              IN         ADP        conjunction, subordinating or preposition\n",
      "the             DT         DET        determiner\n",
      "Caribbean       NNP        PROPN      noun, proper singular\n",
      ".               .          PUNCT      punctuation mark, sentence closer\n",
      "The             DT         DET        determiner\n",
      "terminology     NN         NOUN       noun, singular or mass\n",
      "of              IN         ADP        conjunction, subordinating or preposition\n",
      "the             DT         DET        determiner\n",
      "Americas        NNPS       PROPN      noun, proper plural\n",
      "is              VBZ        AUX        verb, 3rd person singular present\n",
      "complex         JJ         ADJ        adjective (English), other noun-modifier (Chinese)\n",
      ",               ,          PUNCT      punctuation mark, comma\n",
      "but             CC         CCONJ      conjunction, coordinating\n",
      "'               ``         PUNCT      opening quotation mark\n",
      "Anglo           NNP        PROPN      noun, proper singular\n",
      "-               HYPH       PUNCT      punctuation mark, hyphen\n",
      "America         NNP        PROPN      noun, proper singular\n",
      "'               ''         PUNCT      closing quotation mark\n",
      "can             MD         AUX        verb, modal auxiliary\n",
      "describe        VB         VERB       verb, base form\n",
      "Canada          NNP        PROPN      noun, proper singular\n",
      "and             CC         CCONJ      conjunction, coordinating\n",
      "the             DT         DET        determiner\n",
      "U.S.            NNP        PROPN      noun, proper singular\n",
      ",               ,          PUNCT      punctuation mark, comma\n",
      "while           IN         SCONJ      conjunction, subordinating or preposition\n",
      "'               ``         PUNCT      opening quotation mark\n",
      "Latin           NNP        PROPN      noun, proper singular\n",
      "America         NNP        PROPN      noun, proper singular\n",
      "'               POS        PART       possessive ending\n",
      "comprises       VBZ        VERB       verb, 3rd person singular present\n",
      "Mexico          NNP        PROPN      noun, proper singular\n",
      "and             CC         CCONJ      conjunction, coordinating\n",
      "the             DT         DET        determiner\n",
      "countries       NNS        NOUN       noun, plural\n",
      "of              IN         ADP        conjunction, subordinating or preposition\n",
      "Central         NNP        PROPN      noun, proper singular\n",
      "America         NNP        PROPN      noun, proper singular\n",
      "and             CC         CCONJ      conjunction, coordinating\n",
      "the             DT         DET        determiner\n",
      "Caribbean       NNP        PROPN      noun, proper singular\n",
      ",               ,          PUNCT      punctuation mark, comma\n",
      "as              RB         ADV        adverb\n",
      "well            RB         ADV        adverb\n",
      "as              IN         ADP        conjunction, subordinating or preposition\n",
      "the             DT         DET        determiner\n",
      "entire          JJ         ADJ        adjective (English), other noun-modifier (Chinese)\n",
      "continent       NN         NOUN       noun, singular or mass\n",
      "of              IN         ADP        conjunction, subordinating or preposition\n",
      "South           NNP        PROPN      noun, proper singular\n",
      "America         NNP        PROPN      noun, proper singular\n",
      ".               .          PUNCT      punctuation mark, sentence closer\n"
     ]
    }
   ],
   "source": [
    "for token in doc:\n",
    "    print(f\"{token.text:{15}} {token.tag_:{10}} {token.pos_:{10}} {spacy.explain(token.tag_)}\")"
   ]
  },
  {
   "cell_type": "code",
   "execution_count": 43,
   "id": "b8f33c6f",
   "metadata": {},
   "outputs": [
    {
     "name": "stdout",
     "output_type": "stream",
     "text": [
      "North           NNP        PROPN      noun, proper singular\n",
      "America         NNP        PROPN      noun, proper singular\n",
      "third           RB         ADV        adverb\n",
      "largest         JJS        ADJ        adjective, superlative\n",
      "continent       NN         NOUN       noun, singular or mass\n",
      "also            RB         ADV        adverb\n",
      "portion         NN         NOUN       noun, singular or mass\n",
      "third           RB         ADV        adverb\n",
      "largest         JJS        ADJ        adjective, superlative\n",
      "supercontinent  NN         NOUN       noun, singular or mass\n",
      "North           NNP        PROPN      noun, proper singular\n",
      "South           NNP        PROPN      noun, proper singular\n",
      "America         NNP        PROPN      noun, proper singular\n",
      "combined        VBN        VERB       verb, past participle\n",
      "Americas        NNPS       PROPN      noun, proper plural\n",
      "Africa          NNP        PROPN      noun, proper singular\n",
      "Europe          NNP        PROPN      noun, proper singular\n",
      "Asia            NNP        PROPN      noun, proper singular\n",
      "considered      VBN        VERB       verb, past participle\n",
      "part            NN         NOUN       noun, singular or mass\n",
      "one             CD         NUM        cardinal number\n",
      "supercontinent  NN         NOUN       noun, singular or mass\n",
      "called          VBN        VERB       verb, past participle\n",
      "Afro            NNP        PROPN      noun, proper singular\n",
      "Eurasia         NNP        PROPN      noun, proper singular\n",
      "estimated       VBN        VERB       verb, past participle\n",
      "population      NN         NOUN       noun, singular or mass\n",
      "million         CD         NUM        cardinal number\n",
      "area            NN         NOUN       noun, singular or mass\n",
      "northernmost    NN         NOUN       noun, singular or mass\n",
      "two             CD         NUM        cardinal number\n",
      "continents      NNS        NOUN       noun, plural\n",
      "Western         NNP        PROPN      noun, proper singular\n",
      "Hemisphere      NNP        PROPN      noun, proper singular\n",
      "bounded         VBN        VERB       verb, past participle\n",
      "Pacific         NNP        PROPN      noun, proper singular\n",
      "Ocean           NNP        PROPN      noun, proper singular\n",
      "west            NN         NOUN       noun, singular or mass\n",
      "Atlantic        NNP        PROPN      noun, proper singular\n",
      "Ocean           NNP        PROPN      noun, proper singular\n",
      "east            NN         NOUN       noun, singular or mass\n",
      "Caribbean       NNP        PROPN      noun, proper singular\n",
      "Sea             NNP        PROPN      noun, proper singular\n",
      "south           NN         NOUN       noun, singular or mass\n",
      "Arctic          NNP        PROPN      noun, proper singular\n",
      "Ocean           NNP        PROPN      noun, proper singular\n",
      "north           NN         NOUN       noun, singular or mass\n",
      "northern        JJ         ADJ        adjective (English), other noun-modifier (Chinese)\n",
      "half            NN         NOUN       noun, singular or mass\n",
      "North           NNP        PROPN      noun, proper singular\n",
      "America         NNP        PROPN      noun, proper singular\n",
      "sparsely        RB         ADV        adverb\n",
      "populated       VBN        VERB       verb, past participle\n",
      "covered         VBN        VERB       verb, past participle\n",
      "mostly          RB         ADV        adverb\n",
      "Canada          NNP        PROPN      noun, proper singular\n",
      "except          IN         SCONJ      conjunction, subordinating or preposition\n",
      "northeastern    JJ         ADJ        adjective (English), other noun-modifier (Chinese)\n",
      "portion         NN         NOUN       noun, singular or mass\n",
      "occupied        VBN        VERB       verb, past participle\n",
      "Greenland       NNP        PROPN      noun, proper singular\n",
      "northwestern    JJ         ADJ        adjective (English), other noun-modifier (Chinese)\n",
      "portion         NN         NOUN       noun, singular or mass\n",
      "occupied        VBN        VERB       verb, past participle\n",
      "Alaska          NNP        PROPN      noun, proper singular\n",
      "largest         JJS        ADJ        adjective, superlative\n",
      "state           NN         NOUN       noun, singular or mass\n",
      "United          NNP        PROPN      noun, proper singular\n",
      "States          NNP        PROPN      noun, proper singular\n",
      "central         JJ         ADJ        adjective (English), other noun-modifier (Chinese)\n",
      "southern        JJ         ADJ        adjective (English), other noun-modifier (Chinese)\n",
      "portions        NNS        NOUN       noun, plural\n",
      "continent       NN         NOUN       noun, singular or mass\n",
      "occupied        VBN        VERB       verb, past participle\n",
      "contiguous      JJ         ADJ        adjective (English), other noun-modifier (Chinese)\n",
      "United          NNP        PROPN      noun, proper singular\n",
      "States          NNP        PROPN      noun, proper singular\n",
      "Mexico          NNP        PROPN      noun, proper singular\n",
      "numerous        JJ         ADJ        adjective (English), other noun-modifier (Chinese)\n",
      "smaller         JJR        ADJ        adjective, comparative\n",
      "states          NNS        NOUN       noun, plural\n",
      "Central         NNP        PROPN      noun, proper singular\n",
      "America         NNP        PROPN      noun, proper singular\n",
      "Caribbean       NNP        PROPN      noun, proper singular\n",
      "continent       NN         NOUN       noun, singular or mass\n",
      "delimited       VBN        VERB       verb, past participle\n",
      "southeast       NN         NOUN       noun, singular or mass\n",
      "geographers     NNS        NOUN       noun, plural\n",
      "Darién          NNP        PROPN      noun, proper singular\n",
      "watershed       VBD        VERB       verb, past tense\n",
      "along           IN         ADP        conjunction, subordinating or preposition\n",
      "Colombia        NNP        PROPN      noun, proper singular\n",
      "Panama          NNP        PROPN      noun, proper singular\n",
      "border          NN         NOUN       noun, singular or mass\n",
      "placing         VBG        VERB       verb, gerund or present participle\n",
      "Panama          NNP        PROPN      noun, proper singular\n",
      "within          IN         ADP        conjunction, subordinating or preposition\n",
      "North           NNP        PROPN      noun, proper singular\n",
      "America         NNP        PROPN      noun, proper singular\n",
      "Alternatively   RB         ADV        adverb\n",
      "less            RBR        ADV        adverb, comparative\n",
      "common          JJ         ADJ        adjective (English), other noun-modifier (Chinese)\n",
      "view            NN         NOUN       noun, singular or mass\n",
      "would           MD         AUX        verb, modal auxiliary\n",
      "end             VB         VERB       verb, base form\n",
      "North           NNP        PROPN      noun, proper singular\n",
      "America         NNP        PROPN      noun, proper singular\n",
      "man             NN         NOUN       noun, singular or mass\n",
      "made            VBN        VERB       verb, past participle\n",
      "Panama          NNP        PROPN      noun, proper singular\n",
      "Canal           NNP        PROPN      noun, proper singular\n",
      "Islands         NNP        PROPN      noun, proper singular\n",
      "generally       RB         ADV        adverb\n",
      "associated      VBN        VERB       verb, past participle\n",
      "North           NNP        PROPN      noun, proper singular\n",
      "America         NNP        PROPN      noun, proper singular\n",
      "include         VBP        VERB       verb, non-3rd person singular present\n",
      "Greenland       NNP        PROPN      noun, proper singular\n",
      "world           NN         NOUN       noun, singular or mass\n",
      "largest         JJS        ADJ        adjective, superlative\n",
      "island          NN         NOUN       noun, singular or mass\n",
      "archipelagos    NNS        NOUN       noun, plural\n",
      "islands         NNS        NOUN       noun, plural\n",
      "Caribbean       NNP        PROPN      noun, proper singular\n",
      "terminology     NN         NOUN       noun, singular or mass\n",
      "Americas        NNPS       PROPN      noun, proper plural\n",
      "complex         JJ         ADJ        adjective (English), other noun-modifier (Chinese)\n",
      "Anglo           NNP        PROPN      noun, proper singular\n",
      "America         NNP        PROPN      noun, proper singular\n",
      "describe        VB         VERB       verb, base form\n",
      "Canada          NNP        PROPN      noun, proper singular\n",
      "Latin           NNP        PROPN      noun, proper singular\n",
      "America         NNP        PROPN      noun, proper singular\n",
      "comprises       VBZ        VERB       verb, 3rd person singular present\n",
      "Mexico          NNP        PROPN      noun, proper singular\n",
      "countries       NNS        NOUN       noun, plural\n",
      "Central         NNP        PROPN      noun, proper singular\n",
      "America         NNP        PROPN      noun, proper singular\n",
      "Caribbean       NNP        PROPN      noun, proper singular\n",
      "well            RB         ADV        adverb\n",
      "entire          JJ         ADJ        adjective (English), other noun-modifier (Chinese)\n",
      "continent       NN         NOUN       noun, singular or mass\n",
      "South           NNP        PROPN      noun, proper singular\n",
      "America         NNP        PROPN      noun, proper singular\n"
     ]
    }
   ],
   "source": [
    "new_words_dict ={}\n",
    "for token in doc:\n",
    "    if token.text.lower() not in stopwords.words('english'):\n",
    "        if token.text.isalpha():\n",
    "            new_words_dict[token.text.lower()] = token.pos_\n",
    "            print(f\"{token.text:{15}} {token.tag_:{10}} {token.pos_:{10}} {spacy.explain(token.tag_)}\")"
   ]
  },
  {
   "cell_type": "code",
   "execution_count": 44,
   "id": "b8b5c1a4",
   "metadata": {},
   "outputs": [
    {
     "data": {
      "text/plain": [
       "{'north': 'PROPN',\n",
       " 'america': 'PROPN',\n",
       " 'third': 'ADV',\n",
       " 'largest': 'ADJ',\n",
       " 'continent': 'NOUN',\n",
       " 'also': 'ADV',\n",
       " 'portion': 'NOUN',\n",
       " 'supercontinent': 'NOUN',\n",
       " 'south': 'PROPN',\n",
       " 'combined': 'VERB',\n",
       " 'americas': 'PROPN',\n",
       " 'africa': 'PROPN',\n",
       " 'europe': 'PROPN',\n",
       " 'asia': 'PROPN',\n",
       " 'considered': 'VERB',\n",
       " 'part': 'NOUN',\n",
       " 'one': 'NUM',\n",
       " 'called': 'VERB',\n",
       " 'afro': 'PROPN',\n",
       " 'eurasia': 'PROPN',\n",
       " 'estimated': 'VERB',\n",
       " 'population': 'NOUN',\n",
       " 'million': 'NUM',\n",
       " 'area': 'NOUN',\n",
       " 'northernmost': 'NOUN',\n",
       " 'two': 'NUM',\n",
       " 'continents': 'NOUN',\n",
       " 'western': 'PROPN',\n",
       " 'hemisphere': 'PROPN',\n",
       " 'bounded': 'VERB',\n",
       " 'pacific': 'PROPN',\n",
       " 'ocean': 'PROPN',\n",
       " 'west': 'NOUN',\n",
       " 'atlantic': 'PROPN',\n",
       " 'east': 'NOUN',\n",
       " 'caribbean': 'PROPN',\n",
       " 'sea': 'PROPN',\n",
       " 'arctic': 'PROPN',\n",
       " 'northern': 'ADJ',\n",
       " 'half': 'NOUN',\n",
       " 'sparsely': 'ADV',\n",
       " 'populated': 'VERB',\n",
       " 'covered': 'VERB',\n",
       " 'mostly': 'ADV',\n",
       " 'canada': 'PROPN',\n",
       " 'except': 'SCONJ',\n",
       " 'northeastern': 'ADJ',\n",
       " 'occupied': 'VERB',\n",
       " 'greenland': 'PROPN',\n",
       " 'northwestern': 'ADJ',\n",
       " 'alaska': 'PROPN',\n",
       " 'state': 'NOUN',\n",
       " 'united': 'PROPN',\n",
       " 'states': 'NOUN',\n",
       " 'central': 'PROPN',\n",
       " 'southern': 'ADJ',\n",
       " 'portions': 'NOUN',\n",
       " 'contiguous': 'ADJ',\n",
       " 'mexico': 'PROPN',\n",
       " 'numerous': 'ADJ',\n",
       " 'smaller': 'ADJ',\n",
       " 'delimited': 'VERB',\n",
       " 'southeast': 'NOUN',\n",
       " 'geographers': 'NOUN',\n",
       " 'darién': 'PROPN',\n",
       " 'watershed': 'VERB',\n",
       " 'along': 'ADP',\n",
       " 'colombia': 'PROPN',\n",
       " 'panama': 'PROPN',\n",
       " 'border': 'NOUN',\n",
       " 'placing': 'VERB',\n",
       " 'within': 'ADP',\n",
       " 'alternatively': 'ADV',\n",
       " 'less': 'ADV',\n",
       " 'common': 'ADJ',\n",
       " 'view': 'NOUN',\n",
       " 'would': 'AUX',\n",
       " 'end': 'VERB',\n",
       " 'man': 'NOUN',\n",
       " 'made': 'VERB',\n",
       " 'canal': 'PROPN',\n",
       " 'islands': 'NOUN',\n",
       " 'generally': 'ADV',\n",
       " 'associated': 'VERB',\n",
       " 'include': 'VERB',\n",
       " 'world': 'NOUN',\n",
       " 'island': 'NOUN',\n",
       " 'archipelagos': 'NOUN',\n",
       " 'terminology': 'NOUN',\n",
       " 'complex': 'ADJ',\n",
       " 'anglo': 'PROPN',\n",
       " 'describe': 'VERB',\n",
       " 'latin': 'PROPN',\n",
       " 'comprises': 'VERB',\n",
       " 'countries': 'NOUN',\n",
       " 'well': 'ADV',\n",
       " 'entire': 'ADJ'}"
      ]
     },
     "execution_count": 44,
     "metadata": {},
     "output_type": "execute_result"
    }
   ],
   "source": [
    "new_words_dict"
   ]
  },
  {
   "cell_type": "code",
   "execution_count": 45,
   "id": "5f4d3334",
   "metadata": {},
   "outputs": [],
   "source": [
    "from spacy import displacy"
   ]
  },
  {
   "cell_type": "code",
   "execution_count": 46,
   "id": "7b7d94d0",
   "metadata": {},
   "outputs": [],
   "source": [
    "options = {'compact': 'True'}"
   ]
  },
  {
   "cell_type": "code",
   "execution_count": 47,
   "id": "5c46f66a",
   "metadata": {},
   "outputs": [
    {
     "name": "stdout",
     "output_type": "stream",
     "text": [
      "North America   LOC        Non-GPE locations, mountain ranges, bodies of water\n",
      "third           ORDINAL    \"first\", \"second\", etc.\n",
      "third           ORDINAL    \"first\", \"second\", etc.\n",
      "North and South America GPE        Countries, cities, states\n",
      "Americas        LOC        Non-GPE locations, mountain ranges, bodies of water\n",
      "Africa          LOC        Non-GPE locations, mountain ranges, bodies of water\n",
      "Europe          LOC        Non-GPE locations, mountain ranges, bodies of water\n",
      "Asia            LOC        Non-GPE locations, mountain ranges, bodies of water\n",
      "one             CARDINAL   Numerals that do not fall under another type\n",
      "Afro-Eurasia    ORG        Companies, agencies, institutions, etc.\n",
      "580 million     CARDINAL   Numerals that do not fall under another type\n",
      "24,709,000      CARDINAL   Numerals that do not fall under another type\n",
      "9,540,000       CARDINAL   Numerals that do not fall under another type\n",
      "two             CARDINAL   Numerals that do not fall under another type\n",
      "the Western Hemisphere LOC        Non-GPE locations, mountain ranges, bodies of water\n",
      "the Pacific Ocean LOC        Non-GPE locations, mountain ranges, bodies of water\n",
      "the Atlantic Ocean LOC        Non-GPE locations, mountain ranges, bodies of water\n",
      "the Caribbean Sea LOC        Non-GPE locations, mountain ranges, bodies of water\n",
      "the Arctic Ocean LOC        Non-GPE locations, mountain ranges, bodies of water\n",
      "half            CARDINAL   Numerals that do not fall under another type\n",
      "North America   LOC        Non-GPE locations, mountain ranges, bodies of water\n",
      "Canada          GPE        Countries, cities, states\n",
      "Greenland       GPE        Countries, cities, states\n",
      "Alaska          GPE        Countries, cities, states\n",
      "the United States GPE        Countries, cities, states\n",
      "United States   GPE        Countries, cities, states\n",
      "Mexico          GPE        Countries, cities, states\n",
      "Central America LOC        Non-GPE locations, mountain ranges, bodies of water\n",
      "Caribbean       LOC        Non-GPE locations, mountain ranges, bodies of water\n",
      "Darién          ORG        Companies, agencies, institutions, etc.\n",
      "Colombia        GPE        Countries, cities, states\n",
      "Panama          GPE        Countries, cities, states\n",
      "North America   LOC        Non-GPE locations, mountain ranges, bodies of water\n",
      "North America   LOC        Non-GPE locations, mountain ranges, bodies of water\n",
      "Panama Canal    ORG        Companies, agencies, institutions, etc.\n",
      "North America   LOC        Non-GPE locations, mountain ranges, bodies of water\n",
      "Greenland       GPE        Countries, cities, states\n",
      "Caribbean       LOC        Non-GPE locations, mountain ranges, bodies of water\n",
      "Americas        LOC        Non-GPE locations, mountain ranges, bodies of water\n",
      "Anglo-America'  ORG        Companies, agencies, institutions, etc.\n",
      "Canada          GPE        Countries, cities, states\n",
      "U.S.            GPE        Countries, cities, states\n",
      "Latin America'  LOC        Non-GPE locations, mountain ranges, bodies of water\n",
      "Mexico          GPE        Countries, cities, states\n",
      "Central America LOC        Non-GPE locations, mountain ranges, bodies of water\n",
      "Caribbean       LOC        Non-GPE locations, mountain ranges, bodies of water\n",
      "South America   LOC        Non-GPE locations, mountain ranges, bodies of water\n"
     ]
    }
   ],
   "source": [
    "if doc.ents:\n",
    "    for ent in doc.ents:\n",
    "        print(f\"{ent.text:{15}} {ent.label_:{10}} {spacy.explain(ent.label_)}\")"
   ]
  },
  {
   "cell_type": "code",
   "execution_count": 48,
   "id": "837c5e95",
   "metadata": {},
   "outputs": [
    {
     "data": {
      "text/html": [
       "<span class=\"tex2jax_ignore\"><div class=\"entities\" style=\"line-height: 2.5; direction: ltr\">\n",
       "<mark class=\"entity\" style=\"background: #ff9561; padding: 0.45em 0.6em; margin: 0 0.25em; line-height: 1; border-radius: 0.35em;\">\n",
       "    North America\n",
       "    <span style=\"font-size: 0.8em; font-weight: bold; line-height: 1; border-radius: 0.35em; vertical-align: middle; margin-left: 0.5rem\">LOC</span>\n",
       "</mark>\n",
       " is the \n",
       "<mark class=\"entity\" style=\"background: #e4e7d2; padding: 0.45em 0.6em; margin: 0 0.25em; line-height: 1; border-radius: 0.35em;\">\n",
       "    third\n",
       "    <span style=\"font-size: 0.8em; font-weight: bold; line-height: 1; border-radius: 0.35em; vertical-align: middle; margin-left: 0.5rem\">ORDINAL</span>\n",
       "</mark>\n",
       " largest continent, and is also a portion of the \n",
       "<mark class=\"entity\" style=\"background: #e4e7d2; padding: 0.45em 0.6em; margin: 0 0.25em; line-height: 1; border-radius: 0.35em;\">\n",
       "    third\n",
       "    <span style=\"font-size: 0.8em; font-weight: bold; line-height: 1; border-radius: 0.35em; vertical-align: middle; margin-left: 0.5rem\">ORDINAL</span>\n",
       "</mark>\n",
       " largest supercontinent if \n",
       "<mark class=\"entity\" style=\"background: #feca74; padding: 0.45em 0.6em; margin: 0 0.25em; line-height: 1; border-radius: 0.35em;\">\n",
       "    North and South America\n",
       "    <span style=\"font-size: 0.8em; font-weight: bold; line-height: 1; border-radius: 0.35em; vertical-align: middle; margin-left: 0.5rem\">GPE</span>\n",
       "</mark>\n",
       " are combined into the \n",
       "<mark class=\"entity\" style=\"background: #ff9561; padding: 0.45em 0.6em; margin: 0 0.25em; line-height: 1; border-radius: 0.35em;\">\n",
       "    Americas\n",
       "    <span style=\"font-size: 0.8em; font-weight: bold; line-height: 1; border-radius: 0.35em; vertical-align: middle; margin-left: 0.5rem\">LOC</span>\n",
       "</mark>\n",
       " and \n",
       "<mark class=\"entity\" style=\"background: #ff9561; padding: 0.45em 0.6em; margin: 0 0.25em; line-height: 1; border-radius: 0.35em;\">\n",
       "    Africa\n",
       "    <span style=\"font-size: 0.8em; font-weight: bold; line-height: 1; border-radius: 0.35em; vertical-align: middle; margin-left: 0.5rem\">LOC</span>\n",
       "</mark>\n",
       ", \n",
       "<mark class=\"entity\" style=\"background: #ff9561; padding: 0.45em 0.6em; margin: 0 0.25em; line-height: 1; border-radius: 0.35em;\">\n",
       "    Europe\n",
       "    <span style=\"font-size: 0.8em; font-weight: bold; line-height: 1; border-radius: 0.35em; vertical-align: middle; margin-left: 0.5rem\">LOC</span>\n",
       "</mark>\n",
       ", and \n",
       "<mark class=\"entity\" style=\"background: #ff9561; padding: 0.45em 0.6em; margin: 0 0.25em; line-height: 1; border-radius: 0.35em;\">\n",
       "    Asia\n",
       "    <span style=\"font-size: 0.8em; font-weight: bold; line-height: 1; border-radius: 0.35em; vertical-align: middle; margin-left: 0.5rem\">LOC</span>\n",
       "</mark>\n",
       " are considered to be part of \n",
       "<mark class=\"entity\" style=\"background: #e4e7d2; padding: 0.45em 0.6em; margin: 0 0.25em; line-height: 1; border-radius: 0.35em;\">\n",
       "    one\n",
       "    <span style=\"font-size: 0.8em; font-weight: bold; line-height: 1; border-radius: 0.35em; vertical-align: middle; margin-left: 0.5rem\">CARDINAL</span>\n",
       "</mark>\n",
       " supercontinent called \n",
       "<mark class=\"entity\" style=\"background: #7aecec; padding: 0.45em 0.6em; margin: 0 0.25em; line-height: 1; border-radius: 0.35em;\">\n",
       "    Afro-Eurasia\n",
       "    <span style=\"font-size: 0.8em; font-weight: bold; line-height: 1; border-radius: 0.35em; vertical-align: middle; margin-left: 0.5rem\">ORG</span>\n",
       "</mark>\n",
       ". With an estimated population of \n",
       "<mark class=\"entity\" style=\"background: #e4e7d2; padding: 0.45em 0.6em; margin: 0 0.25em; line-height: 1; border-radius: 0.35em;\">\n",
       "    580 million\n",
       "    <span style=\"font-size: 0.8em; font-weight: bold; line-height: 1; border-radius: 0.35em; vertical-align: middle; margin-left: 0.5rem\">CARDINAL</span>\n",
       "</mark>\n",
       " and an area of \n",
       "<mark class=\"entity\" style=\"background: #e4e7d2; padding: 0.45em 0.6em; margin: 0 0.25em; line-height: 1; border-radius: 0.35em;\">\n",
       "    24,709,000\n",
       "    <span style=\"font-size: 0.8em; font-weight: bold; line-height: 1; border-radius: 0.35em; vertical-align: middle; margin-left: 0.5rem\">CARDINAL</span>\n",
       "</mark>\n",
       " km2 (\n",
       "<mark class=\"entity\" style=\"background: #e4e7d2; padding: 0.45em 0.6em; margin: 0 0.25em; line-height: 1; border-radius: 0.35em;\">\n",
       "    9,540,000\n",
       "    <span style=\"font-size: 0.8em; font-weight: bold; line-height: 1; border-radius: 0.35em; vertical-align: middle; margin-left: 0.5rem\">CARDINAL</span>\n",
       "</mark>\n",
       " mi2), the northernmost of the \n",
       "<mark class=\"entity\" style=\"background: #e4e7d2; padding: 0.45em 0.6em; margin: 0 0.25em; line-height: 1; border-radius: 0.35em;\">\n",
       "    two\n",
       "    <span style=\"font-size: 0.8em; font-weight: bold; line-height: 1; border-radius: 0.35em; vertical-align: middle; margin-left: 0.5rem\">CARDINAL</span>\n",
       "</mark>\n",
       " continents of \n",
       "<mark class=\"entity\" style=\"background: #ff9561; padding: 0.45em 0.6em; margin: 0 0.25em; line-height: 1; border-radius: 0.35em;\">\n",
       "    the Western Hemisphere\n",
       "    <span style=\"font-size: 0.8em; font-weight: bold; line-height: 1; border-radius: 0.35em; vertical-align: middle; margin-left: 0.5rem\">LOC</span>\n",
       "</mark>\n",
       " is bounded by \n",
       "<mark class=\"entity\" style=\"background: #ff9561; padding: 0.45em 0.6em; margin: 0 0.25em; line-height: 1; border-radius: 0.35em;\">\n",
       "    the Pacific Ocean\n",
       "    <span style=\"font-size: 0.8em; font-weight: bold; line-height: 1; border-radius: 0.35em; vertical-align: middle; margin-left: 0.5rem\">LOC</span>\n",
       "</mark>\n",
       " on the west; \n",
       "<mark class=\"entity\" style=\"background: #ff9561; padding: 0.45em 0.6em; margin: 0 0.25em; line-height: 1; border-radius: 0.35em;\">\n",
       "    the Atlantic Ocean\n",
       "    <span style=\"font-size: 0.8em; font-weight: bold; line-height: 1; border-radius: 0.35em; vertical-align: middle; margin-left: 0.5rem\">LOC</span>\n",
       "</mark>\n",
       " on the east; \n",
       "<mark class=\"entity\" style=\"background: #ff9561; padding: 0.45em 0.6em; margin: 0 0.25em; line-height: 1; border-radius: 0.35em;\">\n",
       "    the Caribbean Sea\n",
       "    <span style=\"font-size: 0.8em; font-weight: bold; line-height: 1; border-radius: 0.35em; vertical-align: middle; margin-left: 0.5rem\">LOC</span>\n",
       "</mark>\n",
       " on the south; and \n",
       "<mark class=\"entity\" style=\"background: #ff9561; padding: 0.45em 0.6em; margin: 0 0.25em; line-height: 1; border-radius: 0.35em;\">\n",
       "    the Arctic Ocean\n",
       "    <span style=\"font-size: 0.8em; font-weight: bold; line-height: 1; border-radius: 0.35em; vertical-align: middle; margin-left: 0.5rem\">LOC</span>\n",
       "</mark>\n",
       " on the north. The northern \n",
       "<mark class=\"entity\" style=\"background: #e4e7d2; padding: 0.45em 0.6em; margin: 0 0.25em; line-height: 1; border-radius: 0.35em;\">\n",
       "    half\n",
       "    <span style=\"font-size: 0.8em; font-weight: bold; line-height: 1; border-radius: 0.35em; vertical-align: middle; margin-left: 0.5rem\">CARDINAL</span>\n",
       "</mark>\n",
       " of \n",
       "<mark class=\"entity\" style=\"background: #ff9561; padding: 0.45em 0.6em; margin: 0 0.25em; line-height: 1; border-radius: 0.35em;\">\n",
       "    North America\n",
       "    <span style=\"font-size: 0.8em; font-weight: bold; line-height: 1; border-radius: 0.35em; vertical-align: middle; margin-left: 0.5rem\">LOC</span>\n",
       "</mark>\n",
       " is sparsely populated and covered mostly by \n",
       "<mark class=\"entity\" style=\"background: #feca74; padding: 0.45em 0.6em; margin: 0 0.25em; line-height: 1; border-radius: 0.35em;\">\n",
       "    Canada\n",
       "    <span style=\"font-size: 0.8em; font-weight: bold; line-height: 1; border-radius: 0.35em; vertical-align: middle; margin-left: 0.5rem\">GPE</span>\n",
       "</mark>\n",
       ", except for the northeastern portion, which is occupied by \n",
       "<mark class=\"entity\" style=\"background: #feca74; padding: 0.45em 0.6em; margin: 0 0.25em; line-height: 1; border-radius: 0.35em;\">\n",
       "    Greenland\n",
       "    <span style=\"font-size: 0.8em; font-weight: bold; line-height: 1; border-radius: 0.35em; vertical-align: middle; margin-left: 0.5rem\">GPE</span>\n",
       "</mark>\n",
       ", and the northwestern portion, which is occupied by \n",
       "<mark class=\"entity\" style=\"background: #feca74; padding: 0.45em 0.6em; margin: 0 0.25em; line-height: 1; border-radius: 0.35em;\">\n",
       "    Alaska\n",
       "    <span style=\"font-size: 0.8em; font-weight: bold; line-height: 1; border-radius: 0.35em; vertical-align: middle; margin-left: 0.5rem\">GPE</span>\n",
       "</mark>\n",
       ", the largest state of \n",
       "<mark class=\"entity\" style=\"background: #feca74; padding: 0.45em 0.6em; margin: 0 0.25em; line-height: 1; border-radius: 0.35em;\">\n",
       "    the United States\n",
       "    <span style=\"font-size: 0.8em; font-weight: bold; line-height: 1; border-radius: 0.35em; vertical-align: middle; margin-left: 0.5rem\">GPE</span>\n",
       "</mark>\n",
       ". The central and southern portions of the continent are occupied by the contiguous \n",
       "<mark class=\"entity\" style=\"background: #feca74; padding: 0.45em 0.6em; margin: 0 0.25em; line-height: 1; border-radius: 0.35em;\">\n",
       "    United States\n",
       "    <span style=\"font-size: 0.8em; font-weight: bold; line-height: 1; border-radius: 0.35em; vertical-align: middle; margin-left: 0.5rem\">GPE</span>\n",
       "</mark>\n",
       ", \n",
       "<mark class=\"entity\" style=\"background: #feca74; padding: 0.45em 0.6em; margin: 0 0.25em; line-height: 1; border-radius: 0.35em;\">\n",
       "    Mexico\n",
       "    <span style=\"font-size: 0.8em; font-weight: bold; line-height: 1; border-radius: 0.35em; vertical-align: middle; margin-left: 0.5rem\">GPE</span>\n",
       "</mark>\n",
       ", and numerous smaller states in \n",
       "<mark class=\"entity\" style=\"background: #ff9561; padding: 0.45em 0.6em; margin: 0 0.25em; line-height: 1; border-radius: 0.35em;\">\n",
       "    Central America\n",
       "    <span style=\"font-size: 0.8em; font-weight: bold; line-height: 1; border-radius: 0.35em; vertical-align: middle; margin-left: 0.5rem\">LOC</span>\n",
       "</mark>\n",
       " and in the \n",
       "<mark class=\"entity\" style=\"background: #ff9561; padding: 0.45em 0.6em; margin: 0 0.25em; line-height: 1; border-radius: 0.35em;\">\n",
       "    Caribbean\n",
       "    <span style=\"font-size: 0.8em; font-weight: bold; line-height: 1; border-radius: 0.35em; vertical-align: middle; margin-left: 0.5rem\">LOC</span>\n",
       "</mark>\n",
       ". The continent is delimited on the southeast by most geographers at the \n",
       "<mark class=\"entity\" style=\"background: #7aecec; padding: 0.45em 0.6em; margin: 0 0.25em; line-height: 1; border-radius: 0.35em;\">\n",
       "    Darién\n",
       "    <span style=\"font-size: 0.8em; font-weight: bold; line-height: 1; border-radius: 0.35em; vertical-align: middle; margin-left: 0.5rem\">ORG</span>\n",
       "</mark>\n",
       " watershed along the \n",
       "<mark class=\"entity\" style=\"background: #feca74; padding: 0.45em 0.6em; margin: 0 0.25em; line-height: 1; border-radius: 0.35em;\">\n",
       "    Colombia\n",
       "    <span style=\"font-size: 0.8em; font-weight: bold; line-height: 1; border-radius: 0.35em; vertical-align: middle; margin-left: 0.5rem\">GPE</span>\n",
       "</mark>\n",
       "-Panama border, placing all of \n",
       "<mark class=\"entity\" style=\"background: #feca74; padding: 0.45em 0.6em; margin: 0 0.25em; line-height: 1; border-radius: 0.35em;\">\n",
       "    Panama\n",
       "    <span style=\"font-size: 0.8em; font-weight: bold; line-height: 1; border-radius: 0.35em; vertical-align: middle; margin-left: 0.5rem\">GPE</span>\n",
       "</mark>\n",
       " within \n",
       "<mark class=\"entity\" style=\"background: #ff9561; padding: 0.45em 0.6em; margin: 0 0.25em; line-height: 1; border-radius: 0.35em;\">\n",
       "    North America\n",
       "    <span style=\"font-size: 0.8em; font-weight: bold; line-height: 1; border-radius: 0.35em; vertical-align: middle; margin-left: 0.5rem\">LOC</span>\n",
       "</mark>\n",
       ". Alternatively, a less common view would end \n",
       "<mark class=\"entity\" style=\"background: #ff9561; padding: 0.45em 0.6em; margin: 0 0.25em; line-height: 1; border-radius: 0.35em;\">\n",
       "    North America\n",
       "    <span style=\"font-size: 0.8em; font-weight: bold; line-height: 1; border-radius: 0.35em; vertical-align: middle; margin-left: 0.5rem\">LOC</span>\n",
       "</mark>\n",
       " at the man-made \n",
       "<mark class=\"entity\" style=\"background: #7aecec; padding: 0.45em 0.6em; margin: 0 0.25em; line-height: 1; border-radius: 0.35em;\">\n",
       "    Panama Canal\n",
       "    <span style=\"font-size: 0.8em; font-weight: bold; line-height: 1; border-radius: 0.35em; vertical-align: middle; margin-left: 0.5rem\">ORG</span>\n",
       "</mark>\n",
       ". Islands generally associated with \n",
       "<mark class=\"entity\" style=\"background: #ff9561; padding: 0.45em 0.6em; margin: 0 0.25em; line-height: 1; border-radius: 0.35em;\">\n",
       "    North America\n",
       "    <span style=\"font-size: 0.8em; font-weight: bold; line-height: 1; border-radius: 0.35em; vertical-align: middle; margin-left: 0.5rem\">LOC</span>\n",
       "</mark>\n",
       " include \n",
       "<mark class=\"entity\" style=\"background: #feca74; padding: 0.45em 0.6em; margin: 0 0.25em; line-height: 1; border-radius: 0.35em;\">\n",
       "    Greenland\n",
       "    <span style=\"font-size: 0.8em; font-weight: bold; line-height: 1; border-radius: 0.35em; vertical-align: middle; margin-left: 0.5rem\">GPE</span>\n",
       "</mark>\n",
       ", the world's largest island, and archipelagos and islands in the \n",
       "<mark class=\"entity\" style=\"background: #ff9561; padding: 0.45em 0.6em; margin: 0 0.25em; line-height: 1; border-radius: 0.35em;\">\n",
       "    Caribbean\n",
       "    <span style=\"font-size: 0.8em; font-weight: bold; line-height: 1; border-radius: 0.35em; vertical-align: middle; margin-left: 0.5rem\">LOC</span>\n",
       "</mark>\n",
       ". The terminology of the \n",
       "<mark class=\"entity\" style=\"background: #ff9561; padding: 0.45em 0.6em; margin: 0 0.25em; line-height: 1; border-radius: 0.35em;\">\n",
       "    Americas\n",
       "    <span style=\"font-size: 0.8em; font-weight: bold; line-height: 1; border-radius: 0.35em; vertical-align: middle; margin-left: 0.5rem\">LOC</span>\n",
       "</mark>\n",
       " is complex, but '\n",
       "<mark class=\"entity\" style=\"background: #7aecec; padding: 0.45em 0.6em; margin: 0 0.25em; line-height: 1; border-radius: 0.35em;\">\n",
       "    Anglo-America'\n",
       "    <span style=\"font-size: 0.8em; font-weight: bold; line-height: 1; border-radius: 0.35em; vertical-align: middle; margin-left: 0.5rem\">ORG</span>\n",
       "</mark>\n",
       " can describe \n",
       "<mark class=\"entity\" style=\"background: #feca74; padding: 0.45em 0.6em; margin: 0 0.25em; line-height: 1; border-radius: 0.35em;\">\n",
       "    Canada\n",
       "    <span style=\"font-size: 0.8em; font-weight: bold; line-height: 1; border-radius: 0.35em; vertical-align: middle; margin-left: 0.5rem\">GPE</span>\n",
       "</mark>\n",
       " and the \n",
       "<mark class=\"entity\" style=\"background: #feca74; padding: 0.45em 0.6em; margin: 0 0.25em; line-height: 1; border-radius: 0.35em;\">\n",
       "    U.S.\n",
       "    <span style=\"font-size: 0.8em; font-weight: bold; line-height: 1; border-radius: 0.35em; vertical-align: middle; margin-left: 0.5rem\">GPE</span>\n",
       "</mark>\n",
       ", while '\n",
       "<mark class=\"entity\" style=\"background: #ff9561; padding: 0.45em 0.6em; margin: 0 0.25em; line-height: 1; border-radius: 0.35em;\">\n",
       "    Latin America'\n",
       "    <span style=\"font-size: 0.8em; font-weight: bold; line-height: 1; border-radius: 0.35em; vertical-align: middle; margin-left: 0.5rem\">LOC</span>\n",
       "</mark>\n",
       " comprises \n",
       "<mark class=\"entity\" style=\"background: #feca74; padding: 0.45em 0.6em; margin: 0 0.25em; line-height: 1; border-radius: 0.35em;\">\n",
       "    Mexico\n",
       "    <span style=\"font-size: 0.8em; font-weight: bold; line-height: 1; border-radius: 0.35em; vertical-align: middle; margin-left: 0.5rem\">GPE</span>\n",
       "</mark>\n",
       " and the countries of \n",
       "<mark class=\"entity\" style=\"background: #ff9561; padding: 0.45em 0.6em; margin: 0 0.25em; line-height: 1; border-radius: 0.35em;\">\n",
       "    Central America\n",
       "    <span style=\"font-size: 0.8em; font-weight: bold; line-height: 1; border-radius: 0.35em; vertical-align: middle; margin-left: 0.5rem\">LOC</span>\n",
       "</mark>\n",
       " and the \n",
       "<mark class=\"entity\" style=\"background: #ff9561; padding: 0.45em 0.6em; margin: 0 0.25em; line-height: 1; border-radius: 0.35em;\">\n",
       "    Caribbean\n",
       "    <span style=\"font-size: 0.8em; font-weight: bold; line-height: 1; border-radius: 0.35em; vertical-align: middle; margin-left: 0.5rem\">LOC</span>\n",
       "</mark>\n",
       ", as well as the entire continent of \n",
       "<mark class=\"entity\" style=\"background: #ff9561; padding: 0.45em 0.6em; margin: 0 0.25em; line-height: 1; border-radius: 0.35em;\">\n",
       "    South America\n",
       "    <span style=\"font-size: 0.8em; font-weight: bold; line-height: 1; border-radius: 0.35em; vertical-align: middle; margin-left: 0.5rem\">LOC</span>\n",
       "</mark>\n",
       ".</div></span>"
      ],
      "text/plain": [
       "<IPython.core.display.HTML object>"
      ]
     },
     "metadata": {},
     "output_type": "display_data"
    }
   ],
   "source": [
    "displacy.render(doc, style='ent', jupyter=True)"
   ]
  },
  {
   "cell_type": "code",
   "execution_count": 49,
   "id": "474d0a79",
   "metadata": {},
   "outputs": [
    {
     "data": {
      "text/plain": [
       "(North America,\n",
       " third,\n",
       " third,\n",
       " North and South America,\n",
       " Americas,\n",
       " Africa,\n",
       " Europe,\n",
       " Asia,\n",
       " one,\n",
       " Afro-Eurasia,\n",
       " 580 million,\n",
       " 24,709,000,\n",
       " 9,540,000,\n",
       " two,\n",
       " the Western Hemisphere,\n",
       " the Pacific Ocean,\n",
       " the Atlantic Ocean,\n",
       " the Caribbean Sea,\n",
       " the Arctic Ocean,\n",
       " half,\n",
       " North America,\n",
       " Canada,\n",
       " Greenland,\n",
       " Alaska,\n",
       " the United States,\n",
       " United States,\n",
       " Mexico,\n",
       " Central America,\n",
       " Caribbean,\n",
       " Darién,\n",
       " Colombia,\n",
       " Panama,\n",
       " North America,\n",
       " North America,\n",
       " Panama Canal,\n",
       " North America,\n",
       " Greenland,\n",
       " Caribbean,\n",
       " Americas,\n",
       " Anglo-America',\n",
       " Canada,\n",
       " U.S.,\n",
       " Latin America',\n",
       " Mexico,\n",
       " Central America,\n",
       " Caribbean,\n",
       " South America)"
      ]
     },
     "execution_count": 49,
     "metadata": {},
     "output_type": "execute_result"
    }
   ],
   "source": [
    "doc.ents"
   ]
  },
  {
   "cell_type": "code",
   "execution_count": null,
   "id": "0bb04af0",
   "metadata": {},
   "outputs": [],
   "source": []
  },
  {
   "cell_type": "code",
   "execution_count": null,
   "id": "0affb743",
   "metadata": {},
   "outputs": [],
   "source": []
  },
  {
   "cell_type": "code",
   "execution_count": null,
   "id": "5f94891d",
   "metadata": {},
   "outputs": [],
   "source": []
  },
  {
   "cell_type": "code",
   "execution_count": null,
   "id": "fb969913",
   "metadata": {},
   "outputs": [],
   "source": []
  },
  {
   "cell_type": "code",
   "execution_count": null,
   "id": "bbf14159",
   "metadata": {},
   "outputs": [],
   "source": []
  },
  {
   "cell_type": "code",
   "execution_count": null,
   "id": "143b7c10",
   "metadata": {},
   "outputs": [],
   "source": []
  },
  {
   "cell_type": "code",
   "execution_count": null,
   "id": "c20a86c9",
   "metadata": {},
   "outputs": [],
   "source": []
  },
  {
   "cell_type": "code",
   "execution_count": null,
   "id": "9e64ce26",
   "metadata": {},
   "outputs": [],
   "source": []
  },
  {
   "cell_type": "code",
   "execution_count": null,
   "id": "de80e8d1",
   "metadata": {},
   "outputs": [],
   "source": []
  },
  {
   "cell_type": "code",
   "execution_count": null,
   "id": "1e86ed2a",
   "metadata": {},
   "outputs": [],
   "source": []
  },
  {
   "cell_type": "code",
   "execution_count": null,
   "id": "c8aa8a0c",
   "metadata": {},
   "outputs": [],
   "source": []
  },
  {
   "cell_type": "code",
   "execution_count": null,
   "id": "42123412",
   "metadata": {},
   "outputs": [],
   "source": []
  },
  {
   "cell_type": "code",
   "execution_count": null,
   "id": "512f12b1",
   "metadata": {},
   "outputs": [],
   "source": []
  },
  {
   "cell_type": "code",
   "execution_count": null,
   "id": "a2bc713f",
   "metadata": {},
   "outputs": [],
   "source": []
  }
 ],
 "metadata": {
  "kernelspec": {
   "display_name": "Python 3 (ipykernel)",
   "language": "python",
   "name": "python3"
  },
  "language_info": {
   "codemirror_mode": {
    "name": "ipython",
    "version": 3
   },
   "file_extension": ".py",
   "mimetype": "text/x-python",
   "name": "python",
   "nbconvert_exporter": "python",
   "pygments_lexer": "ipython3",
   "version": "3.9.12"
  }
 },
 "nbformat": 4,
 "nbformat_minor": 5
}

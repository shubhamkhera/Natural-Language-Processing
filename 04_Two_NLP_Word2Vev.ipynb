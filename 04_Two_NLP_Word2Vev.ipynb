{
 "cells": [
  {
   "cell_type": "markdown",
   "id": "fc7d5c5f",
   "metadata": {},
   "source": [
    "# Day 2: 2.3\n",
    "\n",
    "1. Word2vec (gensim)\n",
    "2. gzip (To unzip and red the data/text document)"
   ]
  },
  {
   "cell_type": "markdown",
   "id": "1dbbc8f1",
   "metadata": {},
   "source": [
    "### Word2vec\n",
    "- Word2vec is one of the most Popular techniques of word embedding.\n",
    "- Word2vec is a two-layer neural network.\n",
    "- Input is text corpus(documet) and output is a set of vectors\n",
    "- Two flavours of algorithm\n",
    "    - Continous Bag of Words(CBOW)\n",
    "    - Skip-Gram\n",
    "    \n",
    "    \n",
    "* **The core concept of word2vec approach is to predict a word with the given neighboring word or predict a neighboring word with the given word which is likely to capture the contextal meaning of the word.**\n",
    "\n",
    "\n",
    "#### Advantages:\n",
    "- Ready to be used in deep learning-ready architechture.\n",
    "- Meaning of word is distributed in vector.\n",
    "- Train vectors are reused.\n",
    "- Vector size does not grow with vocabulary."
   ]
  },
  {
   "cell_type": "code",
   "execution_count": 1,
   "id": "e452934d",
   "metadata": {},
   "outputs": [],
   "source": [
    "#!pip install gensim"
   ]
  },
  {
   "cell_type": "code",
   "execution_count": 2,
   "id": "4cdf2bb3",
   "metadata": {},
   "outputs": [],
   "source": [
    "import gzip\n",
    "import gensim\n",
    "\n",
    "import warnings\n",
    "warnings.filterwarnings('ignore')"
   ]
  },
  {
   "cell_type": "code",
   "execution_count": 3,
   "id": "9512c8e4",
   "metadata": {},
   "outputs": [],
   "source": [
    "fname = '04_reviews_data.txt.gz'"
   ]
  },
  {
   "cell_type": "code",
   "execution_count": 4,
   "id": "9bc261eb",
   "metadata": {},
   "outputs": [
    {
     "name": "stdout",
     "output_type": "stream",
     "text": [
      "b\"Oct 12 2009 \\tNice trendy hotel location not too bad.\\tI stayed in this hotel for one night. As this is a fairly new place some of the taxi drivers did not know where it was and/or did not want to drive there. Once I have eventually arrived at the hotel, I was very pleasantly surprised with the decor of the lobby/ground floor area. It was very stylish and modern. I found the reception's staff geeting me with 'Aloha' a bit out of place, but I guess they are briefed to say that to keep up the coroporate image.As I have a Starwood Preferred Guest member, I was given a small gift upon-check in. It was only a couple of fridge magnets in a gift box, but nevertheless a nice gesture.My room was nice and roomy, there are tea and coffee facilities in each room and you get two complimentary bottles of water plus some toiletries by 'bliss'.The location is not great. It is at the last metro stop and you then need to take a taxi, but if you are not planning on going to see the historic sites in Beijing, then you will be ok.I chose to have some breakfast in the hotel, which was really tasty and there was a good selection of dishes. There are a couple of computers to use in the communal area, as well as a pool table. There is also a small swimming pool and a gym area.I would definitely stay in this hotel again, but only if I did not plan to travel to central Beijing, as it can take a long time. The location is ok if you plan to do a lot of shopping, as there is a big shopping centre just few minutes away from the hotel and there are plenty of eating options around, including restaurants that serve a dog meat!\\t\\r\\n\"\n"
     ]
    }
   ],
   "source": [
    "with gzip.open(fname, 'r') as file:\n",
    "    for i, line in enumerate(file):\n",
    "        print(line)\n",
    "        break"
   ]
  },
  {
   "cell_type": "code",
   "execution_count": 7,
   "id": "87f4df4c",
   "metadata": {},
   "outputs": [],
   "source": [
    "def read_data(file):\n",
    "    with gzip.open(fname, 'rb') as f:\n",
    "        for i, line in enumerate(f):\n",
    "            yield gensim.utils.simple_preprocess(line)\n",
    "            \n",
    "doc = list(read_data(fname))"
   ]
  },
  {
   "cell_type": "code",
   "execution_count": 9,
   "id": "78718212",
   "metadata": {},
   "outputs": [],
   "source": [
    "model = gensim.models.Word2Vec(doc,\n",
    "                              #sg=1,\n",
    "                              vector_size=100,\n",
    "                              window=5,\n",
    "                              min_count=1,\n",
    "                              workers=4\n",
    "                              )"
   ]
  },
  {
   "cell_type": "code",
   "execution_count": 10,
   "id": "c5d132f3",
   "metadata": {},
   "outputs": [
    {
     "data": {
      "text/plain": [
       "(304384452, 415193590)"
      ]
     },
     "execution_count": 10,
     "metadata": {},
     "output_type": "execute_result"
    }
   ],
   "source": [
    "model.train(doc, total_examples=len(doc), epochs=10)"
   ]
  },
  {
   "cell_type": "code",
   "execution_count": 11,
   "id": "b1a211ac",
   "metadata": {},
   "outputs": [
    {
     "data": {
      "text/plain": [
       "[('terrible', 0.6955327987670898),\n",
       " ('horrible', 0.642281174659729),\n",
       " ('poor', 0.5914537906646729),\n",
       " ('subpar', 0.5871266722679138),\n",
       " ('dissappointing', 0.5858240127563477),\n",
       " ('good', 0.5721716284751892),\n",
       " ('horrid', 0.5681617856025696),\n",
       " ('shocking', 0.5672218799591064),\n",
       " ('greatest', 0.558804988861084),\n",
       " ('awful', 0.556770384311676)]"
      ]
     },
     "execution_count": 11,
     "metadata": {},
     "output_type": "execute_result"
    }
   ],
   "source": [
    "model.wv.most_similar(positive='bad')"
   ]
  },
  {
   "cell_type": "code",
   "execution_count": 12,
   "id": "5fdbbb94",
   "metadata": {},
   "outputs": [
    {
     "data": {
      "text/plain": [
       "[('pleased', 0.8314763903617859),\n",
       " ('satisfied', 0.7882269024848938),\n",
       " ('delighted', 0.7081636786460876),\n",
       " ('thrilled', 0.6986674070358276),\n",
       " ('impressed', 0.6853621006011963),\n",
       " ('disappointed', 0.6515425443649292),\n",
       " ('dissapointed', 0.6365633010864258),\n",
       " ('dissappointed', 0.6076000928878784),\n",
       " ('grateful', 0.6070114970207214),\n",
       " ('dissatisfied', 0.606725811958313)]"
      ]
     },
     "execution_count": 12,
     "metadata": {},
     "output_type": "execute_result"
    }
   ],
   "source": [
    "model.wv.most_similar(['happy'])"
   ]
  },
  {
   "cell_type": "code",
   "execution_count": 15,
   "id": "dba07f3f",
   "metadata": {},
   "outputs": [
    {
     "data": {
      "text/plain": [
       "[('pleased', 0.8146138787269592),\n",
       " ('thrilled', 0.7830703258514404),\n",
       " ('satisfied', 0.7362074851989746),\n",
       " ('delighted', 0.7272976040840149),\n",
       " ('impressed', 0.725229024887085),\n",
       " ('disappointed', 0.7052410244941711),\n",
       " ('dissapointed', 0.6931937336921692),\n",
       " ('dissappointed', 0.6835281252861023),\n",
       " ('anxious', 0.6731923818588257),\n",
       " ('thankful', 0.647010326385498)]"
      ]
     },
     "execution_count": 15,
     "metadata": {},
     "output_type": "execute_result"
    }
   ],
   "source": [
    "model.wv.most_similar(['happy','excited'])"
   ]
  },
  {
   "cell_type": "code",
   "execution_count": null,
   "id": "a5ca9def",
   "metadata": {},
   "outputs": [],
   "source": []
  },
  {
   "cell_type": "code",
   "execution_count": null,
   "id": "e14accbe",
   "metadata": {},
   "outputs": [],
   "source": []
  },
  {
   "cell_type": "code",
   "execution_count": null,
   "id": "1aba2ed9",
   "metadata": {},
   "outputs": [],
   "source": []
  },
  {
   "cell_type": "code",
   "execution_count": null,
   "id": "96c73c73",
   "metadata": {},
   "outputs": [],
   "source": []
  },
  {
   "cell_type": "code",
   "execution_count": null,
   "id": "e5a967d0",
   "metadata": {},
   "outputs": [],
   "source": []
  },
  {
   "cell_type": "code",
   "execution_count": null,
   "id": "03566148",
   "metadata": {},
   "outputs": [],
   "source": []
  }
 ],
 "metadata": {
  "kernelspec": {
   "display_name": "Python 3 (ipykernel)",
   "language": "python",
   "name": "python3"
  },
  "language_info": {
   "codemirror_mode": {
    "name": "ipython",
    "version": 3
   },
   "file_extension": ".py",
   "mimetype": "text/x-python",
   "name": "python",
   "nbconvert_exporter": "python",
   "pygments_lexer": "ipython3",
   "version": "3.9.12"
  }
 },
 "nbformat": 4,
 "nbformat_minor": 5
}
